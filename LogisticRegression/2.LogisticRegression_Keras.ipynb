{
 "cells": [
  {
   "cell_type": "code",
   "execution_count": 1,
   "metadata": {},
   "outputs": [
    {
     "name": "stdout",
     "output_type": "stream",
     "text": [
      "[[5.1 3.5 1.4 0.2]\n",
      " [4.9 3.  1.4 0.2]\n",
      " [4.7 3.2 1.3 0.2]\n",
      " [4.6 3.1 1.5 0.2]\n",
      " [5.  3.6 1.4 0.2]\n",
      " [5.4 3.9 1.7 0.4]\n",
      " [4.6 3.4 1.4 0.3]\n",
      " [5.  3.4 1.5 0.2]\n",
      " [4.4 2.9 1.4 0.2]\n",
      " [4.9 3.1 1.5 0.1]]\n"
     ]
    }
   ],
   "source": [
    "import numpy as np\n",
    "import tensorflow as tf\n",
    "import tensorflow.keras as keras\n",
    "\n",
    "# Data Preparation\n",
    "data = np.genfromtxt('iris_full.csv', \n",
    "                     delimiter=',', \n",
    "                     skip_header=1)\n",
    "X = data[:,0:4]\n",
    "y = data[:,4]\n",
    "\n",
    "print(X[:10])"
   ]
  },
  {
   "cell_type": "code",
   "execution_count": null,
   "metadata": {},
   "outputs": [],
   "source": []
  },
  {
   "cell_type": "code",
   "execution_count": 3,
   "metadata": {},
   "outputs": [],
   "source": [
    "# create model\n",
    "model = tf.keras.Sequential([keras.layers.Dense(units=1, \n",
    "                                                activation='sigmoid', \n",
    "                                                input_shape=[4])])"
   ]
  },
  {
   "cell_type": "code",
   "execution_count": null,
   "metadata": {},
   "outputs": [],
   "source": []
  },
  {
   "cell_type": "code",
   "execution_count": 4,
   "metadata": {},
   "outputs": [
    {
     "name": "stdout",
     "output_type": "stream",
     "text": [
      "Epoch 1/200\n",
      "7/7 [==============================] - 0s 1ms/step - loss: 2.2410\n",
      "Epoch 2/200\n",
      "7/7 [==============================] - 0s 1ms/step - loss: 1.5543\n",
      "Epoch 3/200\n",
      "7/7 [==============================] - 0s 2ms/step - loss: 0.9611\n",
      "Epoch 4/200\n",
      "7/7 [==============================] - 0s 1ms/step - loss: 0.5791\n",
      "Epoch 5/200\n",
      "7/7 [==============================] - 0s 2ms/step - loss: 0.4197\n",
      "Epoch 6/200\n",
      "7/7 [==============================] - 0s 2ms/step - loss: 0.3643\n",
      "Epoch 7/200\n",
      "7/7 [==============================] - 0s 2ms/step - loss: 0.3470\n",
      "Epoch 8/200\n",
      "7/7 [==============================] - 0s 2ms/step - loss: 0.3310\n",
      "Epoch 9/200\n",
      "7/7 [==============================] - 0s 2ms/step - loss: 0.3201\n",
      "Epoch 10/200\n",
      "7/7 [==============================] - 0s 2ms/step - loss: 0.3101\n",
      "Epoch 11/200\n",
      "7/7 [==============================] - 0s 2ms/step - loss: 0.3023\n",
      "Epoch 12/200\n",
      "7/7 [==============================] - 0s 3ms/step - loss: 0.2958\n",
      "Epoch 13/200\n",
      "7/7 [==============================] - 0s 3ms/step - loss: 0.2869\n",
      "Epoch 14/200\n",
      "7/7 [==============================] - 0s 1ms/step - loss: 0.2805\n",
      "Epoch 15/200\n",
      "7/7 [==============================] - 0s 3ms/step - loss: 0.2731\n",
      "Epoch 16/200\n",
      "7/7 [==============================] - 0s 2ms/step - loss: 0.2670\n",
      "Epoch 17/200\n",
      "7/7 [==============================] - 0s 2ms/step - loss: 0.2609\n",
      "Epoch 18/200\n",
      "7/7 [==============================] - 0s 2ms/step - loss: 0.2545\n",
      "Epoch 19/200\n",
      "7/7 [==============================] - 0s 3ms/step - loss: 0.2487\n",
      "Epoch 20/200\n",
      "7/7 [==============================] - 0s 2ms/step - loss: 0.2432\n",
      "Epoch 21/200\n",
      "7/7 [==============================] - 0s 3ms/step - loss: 0.2375\n",
      "Epoch 22/200\n",
      "7/7 [==============================] - 0s 2ms/step - loss: 0.2323\n",
      "Epoch 23/200\n",
      "7/7 [==============================] - 0s 2ms/step - loss: 0.2278\n",
      "Epoch 24/200\n",
      "7/7 [==============================] - 0s 2ms/step - loss: 0.2232\n",
      "Epoch 25/200\n",
      "7/7 [==============================] - 0s 3ms/step - loss: 0.2187\n",
      "Epoch 26/200\n",
      "7/7 [==============================] - 0s 3ms/step - loss: 0.2137\n",
      "Epoch 27/200\n",
      "7/7 [==============================] - 0s 3ms/step - loss: 0.2099\n",
      "Epoch 28/200\n",
      "7/7 [==============================] - 0s 2ms/step - loss: 0.2056\n",
      "Epoch 29/200\n",
      "7/7 [==============================] - 0s 2ms/step - loss: 0.2019\n",
      "Epoch 30/200\n",
      "7/7 [==============================] - 0s 1ms/step - loss: 0.1982\n",
      "Epoch 31/200\n",
      "7/7 [==============================] - 0s 4ms/step - loss: 0.1947\n",
      "Epoch 32/200\n",
      "7/7 [==============================] - 0s 2ms/step - loss: 0.1912\n",
      "Epoch 33/200\n",
      "7/7 [==============================] - 0s 3ms/step - loss: 0.1878\n",
      "Epoch 34/200\n",
      "7/7 [==============================] - 0s 2ms/step - loss: 0.1845\n",
      "Epoch 35/200\n",
      "7/7 [==============================] - 0s 2ms/step - loss: 0.1816\n",
      "Epoch 36/200\n",
      "7/7 [==============================] - 0s 3ms/step - loss: 0.1783\n",
      "Epoch 37/200\n",
      "7/7 [==============================] - 0s 3ms/step - loss: 0.1754\n",
      "Epoch 38/200\n",
      "7/7 [==============================] - 0s 2ms/step - loss: 0.1726\n",
      "Epoch 39/200\n",
      "7/7 [==============================] - 0s 2ms/step - loss: 0.1700\n",
      "Epoch 40/200\n",
      "7/7 [==============================] - 0s 2ms/step - loss: 0.1672\n",
      "Epoch 41/200\n",
      "7/7 [==============================] - 0s 2ms/step - loss: 0.1646\n",
      "Epoch 42/200\n",
      "7/7 [==============================] - 0s 2ms/step - loss: 0.1620\n",
      "Epoch 43/200\n",
      "7/7 [==============================] - 0s 2ms/step - loss: 0.1597\n",
      "Epoch 44/200\n",
      "7/7 [==============================] - 0s 4ms/step - loss: 0.1570\n",
      "Epoch 45/200\n",
      "7/7 [==============================] - 0s 2ms/step - loss: 0.1548\n",
      "Epoch 46/200\n",
      "7/7 [==============================] - 0s 4ms/step - loss: 0.1529\n",
      "Epoch 47/200\n",
      "7/7 [==============================] - 0s 2ms/step - loss: 0.1503\n",
      "Epoch 48/200\n",
      "7/7 [==============================] - 0s 2ms/step - loss: 0.1483\n",
      "Epoch 49/200\n",
      "7/7 [==============================] - 0s 4ms/step - loss: 0.1465\n",
      "Epoch 50/200\n",
      "7/7 [==============================] - 0s 2ms/step - loss: 0.1446\n",
      "Epoch 51/200\n",
      "7/7 [==============================] - 0s 2ms/step - loss: 0.1422\n",
      "Epoch 52/200\n",
      "7/7 [==============================] - 0s 2ms/step - loss: 0.1405\n",
      "Epoch 53/200\n",
      "7/7 [==============================] - 0s 3ms/step - loss: 0.1385\n",
      "Epoch 54/200\n",
      "7/7 [==============================] - 0s 1ms/step - loss: 0.1369\n",
      "Epoch 55/200\n",
      "7/7 [==============================] - 0s 2ms/step - loss: 0.1352\n",
      "Epoch 56/200\n",
      "7/7 [==============================] - 0s 2ms/step - loss: 0.1337\n",
      "Epoch 57/200\n",
      "7/7 [==============================] - 0s 2ms/step - loss: 0.1319\n",
      "Epoch 58/200\n",
      "7/7 [==============================] - 0s 3ms/step - loss: 0.1303\n",
      "Epoch 59/200\n",
      "7/7 [==============================] - 0s 3ms/step - loss: 0.1287\n",
      "Epoch 60/200\n",
      "7/7 [==============================] - 0s 5ms/step - loss: 0.1269\n",
      "Epoch 61/200\n",
      "7/7 [==============================] - 0s 2ms/step - loss: 0.1254\n",
      "Epoch 62/200\n",
      "7/7 [==============================] - 0s 3ms/step - loss: 0.1239\n",
      "Epoch 63/200\n",
      "7/7 [==============================] - 0s 2ms/step - loss: 0.1225\n",
      "Epoch 64/200\n",
      "7/7 [==============================] - 0s 2ms/step - loss: 0.1213\n",
      "Epoch 65/200\n",
      "7/7 [==============================] - 0s 2ms/step - loss: 0.1198\n",
      "Epoch 66/200\n",
      "7/7 [==============================] - 0s 3ms/step - loss: 0.1185\n",
      "Epoch 67/200\n",
      "7/7 [==============================] - 0s 3ms/step - loss: 0.1170\n",
      "Epoch 68/200\n",
      "7/7 [==============================] - 0s 2ms/step - loss: 0.1157\n",
      "Epoch 69/200\n",
      "7/7 [==============================] - 0s 1ms/step - loss: 0.1146\n",
      "Epoch 70/200\n",
      "7/7 [==============================] - 0s 2ms/step - loss: 0.1134\n",
      "Epoch 71/200\n",
      "7/7 [==============================] - 0s 2ms/step - loss: 0.1120\n",
      "Epoch 72/200\n",
      "7/7 [==============================] - 0s 2ms/step - loss: 0.1109\n",
      "Epoch 73/200\n",
      "7/7 [==============================] - 0s 2ms/step - loss: 0.1097\n",
      "Epoch 74/200\n",
      "7/7 [==============================] - 0s 2ms/step - loss: 0.1087\n",
      "Epoch 75/200\n",
      "7/7 [==============================] - 0s 1ms/step - loss: 0.1075\n",
      "Epoch 76/200\n",
      "7/7 [==============================] - 0s 1ms/step - loss: 0.1064\n",
      "Epoch 77/200\n",
      "7/7 [==============================] - 0s 4ms/step - loss: 0.1052\n",
      "Epoch 78/200\n",
      "7/7 [==============================] - 0s 2ms/step - loss: 0.1042\n",
      "Epoch 79/200\n",
      "7/7 [==============================] - 0s 1ms/step - loss: 0.1032\n",
      "Epoch 80/200\n",
      "7/7 [==============================] - 0s 2ms/step - loss: 0.1025\n",
      "Epoch 81/200\n",
      "7/7 [==============================] - 0s 3ms/step - loss: 0.1013\n",
      "Epoch 82/200\n",
      "7/7 [==============================] - 0s 1ms/step - loss: 0.1003\n",
      "Epoch 83/200\n",
      "7/7 [==============================] - 0s 2ms/step - loss: 0.0993\n",
      "Epoch 84/200\n",
      "7/7 [==============================] - 0s 2ms/step - loss: 0.0984\n",
      "Epoch 85/200\n",
      "7/7 [==============================] - ETA: 0s - loss: 0.074 - 0s 3ms/step - loss: 0.0977\n",
      "Epoch 86/200\n",
      "7/7 [==============================] - 0s 2ms/step - loss: 0.0967\n",
      "Epoch 87/200\n",
      "7/7 [==============================] - 0s 2ms/step - loss: 0.0957\n",
      "Epoch 88/200\n",
      "7/7 [==============================] - 0s 1ms/step - loss: 0.0949\n",
      "Epoch 89/200\n",
      "7/7 [==============================] - 0s 4ms/step - loss: 0.0940\n",
      "Epoch 90/200\n",
      "7/7 [==============================] - 0s 2ms/step - loss: 0.0932\n",
      "Epoch 91/200\n",
      "7/7 [==============================] - 0s 2ms/step - loss: 0.0925\n",
      "Epoch 92/200\n",
      "7/7 [==============================] - 0s 2ms/step - loss: 0.0915\n",
      "Epoch 93/200\n",
      "7/7 [==============================] - 0s 2ms/step - loss: 0.0909\n",
      "Epoch 94/200\n",
      "7/7 [==============================] - 0s 2ms/step - loss: 0.0900\n",
      "Epoch 95/200\n",
      "7/7 [==============================] - 0s 2ms/step - loss: 0.0892\n",
      "Epoch 96/200\n",
      "7/7 [==============================] - 0s 2ms/step - loss: 0.0885\n",
      "Epoch 97/200\n",
      "7/7 [==============================] - 0s 1ms/step - loss: 0.0877\n",
      "Epoch 98/200\n",
      "7/7 [==============================] - 0s 2ms/step - loss: 0.0870\n",
      "Epoch 99/200\n",
      "7/7 [==============================] - 0s 3ms/step - loss: 0.0863\n",
      "Epoch 100/200\n",
      "7/7 [==============================] - 0s 2ms/step - loss: 0.0856\n",
      "Epoch 101/200\n",
      "7/7 [==============================] - 0s 1ms/step - loss: 0.0849\n",
      "Epoch 102/200\n",
      "7/7 [==============================] - 0s 3ms/step - loss: 0.0842\n",
      "Epoch 103/200\n",
      "7/7 [==============================] - 0s 2ms/step - loss: 0.0835\n",
      "Epoch 104/200\n",
      "7/7 [==============================] - 0s 2ms/step - loss: 0.0829\n",
      "Epoch 105/200\n",
      "7/7 [==============================] - 0s 3ms/step - loss: 0.0822\n",
      "Epoch 106/200\n",
      "7/7 [==============================] - 0s 3ms/step - loss: 0.0815\n",
      "Epoch 107/200\n",
      "7/7 [==============================] - 0s 2ms/step - loss: 0.0810\n",
      "Epoch 108/200\n",
      "7/7 [==============================] - 0s 997us/step - loss: 0.0803\n",
      "Epoch 109/200\n",
      "7/7 [==============================] - 0s 1ms/step - loss: 0.0797\n",
      "Epoch 110/200\n",
      "7/7 [==============================] - 0s 2ms/step - loss: 0.0792\n",
      "Epoch 111/200\n",
      "7/7 [==============================] - 0s 2ms/step - loss: 0.0785\n",
      "Epoch 112/200\n",
      "7/7 [==============================] - 0s 2ms/step - loss: 0.0780\n",
      "Epoch 113/200\n",
      "7/7 [==============================] - 0s 2ms/step - loss: 0.0773\n",
      "Epoch 114/200\n",
      "7/7 [==============================] - 0s 2ms/step - loss: 0.0768\n",
      "Epoch 115/200\n",
      "7/7 [==============================] - 0s 2ms/step - loss: 0.0763\n",
      "Epoch 116/200\n",
      "7/7 [==============================] - 0s 1ms/step - loss: 0.0757\n",
      "Epoch 117/200\n",
      "7/7 [==============================] - 0s 1ms/step - loss: 0.0752\n",
      "Epoch 118/200\n",
      "7/7 [==============================] - 0s 1ms/step - loss: 0.0748\n",
      "Epoch 119/200\n",
      "7/7 [==============================] - 0s 1ms/step - loss: 0.0741\n",
      "Epoch 120/200\n",
      "7/7 [==============================] - 0s 2ms/step - loss: 0.0736\n",
      "Epoch 121/200\n",
      "7/7 [==============================] - 0s 1ms/step - loss: 0.0730\n",
      "Epoch 122/200\n",
      "7/7 [==============================] - 0s 2ms/step - loss: 0.0725\n",
      "Epoch 123/200\n",
      "7/7 [==============================] - 0s 997us/step - loss: 0.0720\n",
      "Epoch 124/200\n",
      "7/7 [==============================] - 0s 3ms/step - loss: 0.0715\n",
      "Epoch 125/200\n",
      "7/7 [==============================] - 0s 1ms/step - loss: 0.0710\n",
      "Epoch 126/200\n",
      "7/7 [==============================] - 0s 3ms/step - loss: 0.0705\n",
      "Epoch 127/200\n",
      "7/7 [==============================] - 0s 1ms/step - loss: 0.0700\n",
      "Epoch 128/200\n",
      "7/7 [==============================] - 0s 1ms/step - loss: 0.0697\n",
      "Epoch 129/200\n",
      "7/7 [==============================] - 0s 1ms/step - loss: 0.0692\n",
      "Epoch 130/200\n",
      "7/7 [==============================] - 0s 2ms/step - loss: 0.0687\n",
      "Epoch 131/200\n",
      "7/7 [==============================] - 0s 1ms/step - loss: 0.0682\n",
      "Epoch 132/200\n",
      "7/7 [==============================] - 0s 2ms/step - loss: 0.0678\n",
      "Epoch 133/200\n",
      "7/7 [==============================] - 0s 1ms/step - loss: 0.0673\n",
      "Epoch 134/200\n",
      "7/7 [==============================] - 0s 1ms/step - loss: 0.0670\n",
      "Epoch 135/200\n",
      "7/7 [==============================] - 0s 1ms/step - loss: 0.0665\n",
      "Epoch 136/200\n",
      "7/7 [==============================] - 0s 1ms/step - loss: 0.0662\n",
      "Epoch 137/200\n",
      "7/7 [==============================] - 0s 3ms/step - loss: 0.0657\n",
      "Epoch 138/200\n",
      "7/7 [==============================] - 0s 2ms/step - loss: 0.0653\n",
      "Epoch 139/200\n",
      "7/7 [==============================] - 0s 1ms/step - loss: 0.0649\n",
      "Epoch 140/200\n",
      "7/7 [==============================] - 0s 2ms/step - loss: 0.0645\n",
      "Epoch 141/200\n",
      "7/7 [==============================] - 0s 2ms/step - loss: 0.0641\n",
      "Epoch 142/200\n",
      "7/7 [==============================] - 0s 997us/step - loss: 0.0637\n",
      "Epoch 143/200\n",
      "7/7 [==============================] - 0s 1ms/step - loss: 0.0634\n",
      "Epoch 144/200\n",
      "7/7 [==============================] - 0s 2ms/step - loss: 0.0630\n",
      "Epoch 145/200\n",
      "7/7 [==============================] - 0s 2ms/step - loss: 0.0627\n",
      "Epoch 146/200\n",
      "7/7 [==============================] - 0s 1ms/step - loss: 0.0622\n",
      "Epoch 147/200\n",
      "7/7 [==============================] - 0s 998us/step - loss: 0.0619\n",
      "Epoch 148/200\n",
      "7/7 [==============================] - 0s 2ms/step - loss: 0.0615\n",
      "Epoch 149/200\n",
      "7/7 [==============================] - 0s 2ms/step - loss: 0.0612\n",
      "Epoch 150/200\n",
      "7/7 [==============================] - 0s 1ms/step - loss: 0.0608\n",
      "Epoch 151/200\n",
      "7/7 [==============================] - 0s 2ms/step - loss: 0.0604\n",
      "Epoch 152/200\n",
      "7/7 [==============================] - 0s 1ms/step - loss: 0.0601\n",
      "Epoch 153/200\n",
      "7/7 [==============================] - 0s 1ms/step - loss: 0.0598\n",
      "Epoch 154/200\n",
      "7/7 [==============================] - 0s 1ms/step - loss: 0.0595\n",
      "Epoch 155/200\n",
      "7/7 [==============================] - 0s 2ms/step - loss: 0.0591\n",
      "Epoch 156/200\n",
      "7/7 [==============================] - 0s 2ms/step - loss: 0.0587\n",
      "Epoch 157/200\n",
      "7/7 [==============================] - 0s 1ms/step - loss: 0.0584\n",
      "Epoch 158/200\n",
      "7/7 [==============================] - 0s 2ms/step - loss: 0.0581\n",
      "Epoch 159/200\n",
      "7/7 [==============================] - 0s 1ms/step - loss: 0.0578\n",
      "Epoch 160/200\n",
      "7/7 [==============================] - 0s 1ms/step - loss: 0.0574\n",
      "Epoch 161/200\n",
      "7/7 [==============================] - 0s 2ms/step - loss: 0.0572\n",
      "Epoch 162/200\n",
      "7/7 [==============================] - 0s 2ms/step - loss: 0.0569\n",
      "Epoch 163/200\n",
      "7/7 [==============================] - 0s 997us/step - loss: 0.0565\n",
      "Epoch 164/200\n",
      "7/7 [==============================] - 0s 997us/step - loss: 0.0562\n",
      "Epoch 165/200\n",
      "7/7 [==============================] - 0s 2ms/step - loss: 0.0559\n",
      "Epoch 166/200\n",
      "7/7 [==============================] - 0s 1ms/step - loss: 0.0556\n",
      "Epoch 167/200\n",
      "7/7 [==============================] - 0s 1ms/step - loss: 0.0553\n",
      "Epoch 168/200\n",
      "7/7 [==============================] - ETA: 0s - loss: 0.041 - 0s 1ms/step - loss: 0.0551\n",
      "Epoch 169/200\n",
      "7/7 [==============================] - 0s 2ms/step - loss: 0.0548\n",
      "Epoch 170/200\n",
      "7/7 [==============================] - 0s 2ms/step - loss: 0.0545\n",
      "Epoch 171/200\n",
      "7/7 [==============================] - 0s 1ms/step - loss: 0.0542\n",
      "Epoch 172/200\n",
      "7/7 [==============================] - 0s 2ms/step - loss: 0.0539\n",
      "Epoch 173/200\n",
      "7/7 [==============================] - 0s 1ms/step - loss: 0.0537\n",
      "Epoch 174/200\n",
      "7/7 [==============================] - 0s 1ms/step - loss: 0.0534\n",
      "Epoch 175/200\n",
      "7/7 [==============================] - 0s 1ms/step - loss: 0.0531\n",
      "Epoch 176/200\n",
      "7/7 [==============================] - 0s 2ms/step - loss: 0.0529\n",
      "Epoch 177/200\n",
      "7/7 [==============================] - 0s 1ms/step - loss: 0.0526\n",
      "Epoch 178/200\n",
      "7/7 [==============================] - 0s 1ms/step - loss: 0.0523\n",
      "Epoch 179/200\n",
      "7/7 [==============================] - 0s 2ms/step - loss: 0.0521\n",
      "Epoch 180/200\n",
      "7/7 [==============================] - 0s 2ms/step - loss: 0.0518\n",
      "Epoch 181/200\n",
      "7/7 [==============================] - 0s 1ms/step - loss: 0.0517\n",
      "Epoch 182/200\n",
      "7/7 [==============================] - 0s 1ms/step - loss: 0.0513\n",
      "Epoch 183/200\n",
      "7/7 [==============================] - 0s 3ms/step - loss: 0.0511\n",
      "Epoch 184/200\n",
      "7/7 [==============================] - 0s 1ms/step - loss: 0.0508\n",
      "Epoch 185/200\n",
      "7/7 [==============================] - 0s 1ms/step - loss: 0.0506\n",
      "Epoch 186/200\n",
      "7/7 [==============================] - 0s 2ms/step - loss: 0.0504\n",
      "Epoch 187/200\n",
      "7/7 [==============================] - 0s 1ms/step - loss: 0.0501\n",
      "Epoch 188/200\n",
      "7/7 [==============================] - 0s 2ms/step - loss: 0.0499\n",
      "Epoch 189/200\n",
      "7/7 [==============================] - 0s 1ms/step - loss: 0.0496\n",
      "Epoch 190/200\n",
      "7/7 [==============================] - 0s 1ms/step - loss: 0.0494\n",
      "Epoch 191/200\n",
      "7/7 [==============================] - 0s 997us/step - loss: 0.0492\n",
      "Epoch 192/200\n",
      "7/7 [==============================] - 0s 1ms/step - loss: 0.0490\n",
      "Epoch 193/200\n",
      "7/7 [==============================] - 0s 997us/step - loss: 0.0487\n",
      "Epoch 194/200\n",
      "7/7 [==============================] - 0s 4ms/step - loss: 0.0485\n",
      "Epoch 195/200\n",
      "7/7 [==============================] - 0s 2ms/step - loss: 0.0483\n",
      "Epoch 196/200\n",
      "7/7 [==============================] - 0s 2ms/step - loss: 0.0481\n",
      "Epoch 197/200\n",
      "7/7 [==============================] - 0s 2ms/step - loss: 0.0479\n",
      "Epoch 198/200\n",
      "7/7 [==============================] - 0s 1ms/step - loss: 0.0476\n",
      "Epoch 199/200\n",
      "7/7 [==============================] - 0s 997us/step - loss: 0.0474\n",
      "Epoch 200/200\n",
      "7/7 [==============================] - 0s 2ms/step - loss: 0.0472\n"
     ]
    }
   ],
   "source": [
    "# compile\n",
    "opt = keras.optimizers.SGD(learning_rate=0.01)\n",
    "model.compile(optimizer=opt, \n",
    "              loss='binary_crossentropy')\n",
    "\n",
    "# training\n",
    "batch_size = 16\n",
    "epochs = 200\n",
    "records = model.fit(X, y, batch_size, epochs)"
   ]
  },
  {
   "cell_type": "code",
   "execution_count": null,
   "metadata": {},
   "outputs": [],
   "source": []
  },
  {
   "cell_type": "code",
   "execution_count": 5,
   "metadata": {},
   "outputs": [
    {
     "data": {
      "image/png": "[encoded data removed]",
      "text/plain": [
       "<Figure size 432x288 with 1 Axes>"
      ]
     },
     "metadata": {
      "needs_background": "light"
     },
     "output_type": "display_data"
    }
   ],
   "source": [
    "import matplotlib.pyplot as plt\n",
    "\n",
    "plt.plot(records.history['loss'])\n",
    "plt.xlabel('iteration')\n",
    "plt.ylabel('Loss')\n",
    "plt.show()"
   ]
  },
  {
   "cell_type": "code",
   "execution_count": null,
   "metadata": {},
   "outputs": [],
   "source": []
  },
  {
   "cell_type": "code",
   "execution_count": 6,
   "metadata": {},
   "outputs": [
    {
     "name": "stdout",
     "output_type": "stream",
     "text": [
      "(100, 4)\n"
     ]
    }
   ],
   "source": [
    "print(X.shape)"
   ]
  },
  {
   "cell_type": "code",
   "execution_count": 7,
   "metadata": {},
   "outputs": [
    {
     "name": "stdout",
     "output_type": "stream",
     "text": [
      "(100, 1)\n"
     ]
    }
   ],
   "source": [
    "preds = model(X)\n",
    "print(preds.shape)"
   ]
  },
  {
   "cell_type": "code",
   "execution_count": 9,
   "metadata": {},
   "outputs": [
    {
     "name": "stdout",
     "output_type": "stream",
     "text": [
      "[0. 0. 0. 0. 0. 0. 0. 0. 0. 0.]\n"
     ]
    }
   ],
   "source": [
    "print(y[:10])"
   ]
  },
  {
   "cell_type": "code",
   "execution_count": 8,
   "metadata": {},
   "outputs": [
    {
     "data": {
      "text/plain": [
       "<tf.Tensor: shape=(10, 1), dtype=float32, numpy=\n",
       "array([[0.03407165],\n",
       "       [0.07676861],\n",
       "       [0.0455623 ],\n",
       "       [0.07578772],\n",
       "       [0.02851474],\n",
       "       [0.03109285],\n",
       "       [0.03898031],\n",
       "       [0.04783496],\n",
       "       [0.08659765],\n",
       "       [0.07704362]], dtype=float32)>"
      ]
     },
     "execution_count": 8,
     "metadata": {},
     "output_type": "execute_result"
    }
   ],
   "source": [
    "preds[:10]"
   ]
  },
  {
   "cell_type": "code",
   "execution_count": 10,
   "metadata": {},
   "outputs": [
    {
     "data": {
      "text/plain": [
       "array([[0.],\n",
       "       [0.],\n",
       "       [0.],\n",
       "       [0.],\n",
       "       [0.],\n",
       "       [0.],\n",
       "       [0.],\n",
       "       [0.],\n",
       "       [0.],\n",
       "       [0.]], dtype=float32)"
      ]
     },
     "execution_count": 10,
     "metadata": {},
     "output_type": "execute_result"
    }
   ],
   "source": [
    "preds = preds.numpy()\n",
    "preds = preds.round()\n",
    "preds[:10]"
   ]
  },
  {
   "cell_type": "code",
   "execution_count": 11,
   "metadata": {},
   "outputs": [
    {
     "name": "stdout",
     "output_type": "stream",
     "text": [
      "(100, 1)\n",
      "(100,)\n"
     ]
    }
   ],
   "source": [
    "print(preds.shape)\n",
    "print(y.shape)"
   ]
  },
  {
   "cell_type": "code",
   "execution_count": 12,
   "metadata": {},
   "outputs": [
    {
     "name": "stdout",
     "output_type": "stream",
     "text": [
      "1.0\n"
     ]
    }
   ],
   "source": [
    "acc = (preds[:,0] == y)\n",
    "print(acc.mean())"
   ]
  },
  {
   "cell_type": "code",
   "execution_count": null,
   "metadata": {},
   "outputs": [],
   "source": []
  },
  {
   "cell_type": "code",
   "execution_count": null,
   "metadata": {},
   "outputs": [],
   "source": []
  },
  {
   "cell_type": "code",
   "execution_count": null,
   "metadata": {},
   "outputs": [],
   "source": []
  },
  {
   "cell_type": "code",
   "execution_count": null,
   "metadata": {},
   "outputs": [],
   "source": [
    "preds = model(X)\n",
    "\n",
    "preds = preds.numpy()\n",
    "preds = preds.round()\n",
    "\n",
    "print(preds.shape)\n",
    "print(y.shape)\n",
    "\n",
    "acc = (preds[:,0] == y)\n",
    "print(acc.mean())"
   ]
  },
  {
   "cell_type": "code",
   "execution_count": null,
   "metadata": {},
   "outputs": [],
   "source": []
  },
  {
   "cell_type": "code",
   "execution_count": null,
   "metadata": {},
   "outputs": [],
   "source": []
  },
  {
   "cell_type": "code",
   "execution_count": null,
   "metadata": {},
   "outputs": [],
   "source": []
  },
  {
   "cell_type": "code",
   "execution_count": null,
   "metadata": {},
   "outputs": [],
   "source": []
  },
  {
   "cell_type": "code",
   "execution_count": null,
   "metadata": {},
   "outputs": [],
   "source": []
  },
  {
   "cell_type": "code",
   "execution_count": null,
   "metadata": {},
   "outputs": [],
   "source": []
  },
  {
   "cell_type": "code",
   "execution_count": null,
   "metadata": {},
   "outputs": [],
   "source": []
  },
  {
   "cell_type": "code",
   "execution_count": null,
   "metadata": {},
   "outputs": [],
   "source": []
  },
  {
   "cell_type": "code",
   "execution_count": null,
   "metadata": {},
   "outputs": [],
   "source": []
  },
  {
   "cell_type": "code",
   "execution_count": null,
   "metadata": {},
   "outputs": [],
   "source": []
  },
  {
   "cell_type": "code",
   "execution_count": null,
   "metadata": {},
   "outputs": [],
   "source": []
  },
  {
   "cell_type": "code",
   "execution_count": null,
   "metadata": {},
   "outputs": [],
   "source": []
  },
  {
   "cell_type": "code",
   "execution_count": null,
   "metadata": {},
   "outputs": [],
   "source": [
    "print(model.layers[0].weights)"
   ]
  },
  {
   "cell_type": "code",
   "execution_count": null,
   "metadata": {},
   "outputs": [],
   "source": []
  },
  {
   "cell_type": "code",
   "execution_count": null,
   "metadata": {},
   "outputs": [],
   "source": [
    "# initialize parameters\n",
    "model.layers[0].set_weights([np.array([[-0.1]]), np.array([0.1])])"
   ]
  },
  {
   "cell_type": "code",
   "execution_count": null,
   "metadata": {},
   "outputs": [],
   "source": []
  },
  {
   "cell_type": "code",
   "execution_count": null,
   "metadata": {},
   "outputs": [],
   "source": []
  },
  {
   "cell_type": "code",
   "execution_count": null,
   "metadata": {},
   "outputs": [],
   "source": [
    "import numpy as np\n",
    "import tensorflow as tf\n",
    "\n",
    "# Data Preparation\n",
    "data = np.genfromtxt('iris_full.csv', delimiter=',', skip_header=1)\n",
    "X = data[:,0:4]\n",
    "y = data[:,4]\n",
    "\n",
    "# create model\n",
    "model = tf.keras.Sequential(\n",
    "    [tf.keras.layers.Dense(units=1, activation='sigmoid', input_shape=[4])])\n",
    "\n",
    "\n",
    "# initialize parameters\n",
    "model.layers[0].set_weights([np.array([[-0.1]]), np.array([0.1])])\n",
    "\n",
    "# declare optimization method and loss function , \n",
    "model.compile(optimizer='sgd', loss='binary_crossentropy')\n",
    "\n",
    "# training\n",
    "history = model.fit(X, y, 6, epochs=1)\n",
    "\n",
    "# parameters after one epoch\n",
    "#print('weight-bias: \\n', model.layers[0].get_weights())"
   ]
  }
 ],
 "metadata": {
  "kernelspec": {
   "display_name": "Python 3 (ipykernel)",
   "language": "python",
   "name": "python3"
  },
  "language_info": {
   "codemirror_mode": {
    "name": "ipython",
    "version": 3
   },
   "file_extension": ".py",
   "mimetype": "text/x-python",
   "name": "python",
   "nbconvert_exporter": "python",
   "pygments_lexer": "ipython3",
   "version": "3.12.3"
  }
 },
 "nbformat": 4,
 "nbformat_minor": 4
}
