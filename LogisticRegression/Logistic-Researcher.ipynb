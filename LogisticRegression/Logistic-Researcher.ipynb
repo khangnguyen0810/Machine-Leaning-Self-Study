{
 "cells": [
  {
   "cell_type": "code",
   "execution_count": 1,
   "metadata": {},
   "outputs": [
    {
     "name": "stderr",
     "output_type": "stream",
     "text": [
      "2024-10-10 14:14:38.880786: I tensorflow/core/platform/cpu_feature_guard.cc:210] This TensorFlow binary is optimized to use available CPU instructions in performance-critical operations.\n",
      "To enable the following instructions: AVX2 FMA, in other operations, rebuild TensorFlow with the appropriate compiler flags.\n"
     ]
    },
    {
     "name": "stdout",
     "output_type": "stream",
     "text": [
      "[[5.1 3.5 1.4 0.2]\n",
      " [4.9 3.  1.4 0.2]\n",
      " [4.7 3.2 1.3 0.2]\n",
      " [4.6 3.1 1.5 0.2]\n",
      " [5.  3.6 1.4 0.2]]\n",
      "[[0.]\n",
      " [0.]\n",
      " [0.]\n",
      " [0.]\n",
      " [0.]]\n"
     ]
    }
   ],
   "source": [
    "import numpy as np\n",
    "import tensorflow as tf\n",
    "tf.keras.backend.set_floatx('float64')\n",
    "\n",
    "\n",
    "### Data preparation\n",
    "data = np.genfromtxt('iris_full.csv', delimiter=',', skip_header=1)\n",
    "X = data[:,0:4]\n",
    "y = data[:,4:]\n",
    "\n",
    "print(X[:5])\n",
    "print(y[:5])"
   ]
  },
  {
   "cell_type": "code",
   "execution_count": null,
   "metadata": {},
   "outputs": [],
   "source": []
  },
  {
   "cell_type": "markdown",
   "metadata": {},
   "source": [
    "# One sample"
   ]
  },
  {
   "cell_type": "code",
   "execution_count": 3,
   "metadata": {},
   "outputs": [],
   "source": [
    "import numpy as np\n",
    "import tensorflow as tf\n",
    "\n",
    "\n",
    "### Data preparation\n",
    "data = np.genfromtxt('iris_full.csv', delimiter=',', skip_header=1)\n",
    "X = data[:,0:4]\n",
    "y = data[:,4:]\n",
    "\n",
    "m = 20\n",
    "\n",
    "### Create model\n",
    "class Model(object):\n",
    "    def __init__(self):\n",
    "        self.W = tf.Variable([[-0.04], \n",
    "                              [0.02], \n",
    "                              [-0.03], \n",
    "                              [0.001]], dtype=tf.float64)\n",
    "        self.b = tf.Variable(0.01, dtype=tf.float64)\n",
    "    \n",
    "    def __call__(self, x):\n",
    "        return tf.math.sigmoid(tf.matmul(x, self.W) + self.b)\n",
    "    \n",
    "model = Model()\n",
    "\n",
    "\n",
    "### training\n",
    "learning_rate = 0.1\n",
    "num_epochs = 100\n",
    "loss = tf.keras.losses.BinaryCrossentropy()\n",
    "\n",
    "losses = []\n",
    "for epoch in range(num_epochs):\n",
    "    with tf.GradientTape() as t:\n",
    "        # y_hat\n",
    "        y_hat = model(X)\n",
    "        \n",
    "        # loss\n",
    "        loss_v = loss(y, y_hat)\n",
    "        losses.append(loss_v.numpy())\n",
    "        \n",
    "        # gradient\n",
    "        dW, db = t.gradient(loss_v, [model.W, model.b])\n",
    "        \n",
    "        # update\n",
    "        model.W.assign_sub(learning_rate * dW)\n",
    "        model.b.assign_sub(learning_rate * db)"
   ]
  },
  {
   "cell_type": "code",
   "execution_count": null,
   "metadata": {},
   "outputs": [],
   "source": []
  },
  {
   "cell_type": "code",
   "execution_count": 4,
   "metadata": {},
   "outputs": [
    {
     "data": {
      "image/png": "[encoded data removed]",
      "text/plain": [
       "<Figure size 640x480 with 1 Axes>"
      ]
     },
     "metadata": {},
     "output_type": "display_data"
    }
   ],
   "source": [
    "import matplotlib.pyplot as plt\n",
    "\n",
    "plt.plot(losses)\n",
    "plt.xlabel('iteration')\n",
    "plt.ylabel('Loss')\n",
    "plt.show()"
   ]
  },
  {
   "cell_type": "code",
   "execution_count": 5,
   "metadata": {},
   "outputs": [
    {
     "name": "stdout",
     "output_type": "stream",
     "text": [
      "weight: \n",
      " <tf.Variable 'Variable:0' shape=(4, 1) dtype=float64, numpy=\n",
      "array([[-0.30106038],\n",
      "       [-1.02650889],\n",
      "       [ 1.60738958],\n",
      "       [ 0.70280663]])>\n",
      "bias: \n",
      " <tf.Variable 'Variable:0' shape=() dtype=float64, numpy=-0.1707467021307532>\n"
     ]
    }
   ],
   "source": [
    "print('weight: \\n', model.W)\n",
    "print('bias: \\n', model.b)"
   ]
  },
  {
   "cell_type": "code",
   "execution_count": 12,
   "metadata": {},
   "outputs": [
    {
     "name": "stdout",
     "output_type": "stream",
     "text": [
      "[0. 0. 0. 0. 0. 0. 0. 0. 0. 0. 0. 0. 0. 0. 0. 0. 0. 0. 0. 0. 0. 0. 0. 0.\n",
      " 0. 0. 0. 0. 0. 0. 0. 0. 0. 0. 0. 0. 0. 0. 0. 0. 0. 0. 0. 0. 0. 0. 0. 0.\n",
      " 0. 0. 1. 1. 1. 1. 1. 1. 1. 1. 1. 1. 1. 1. 1. 1. 1. 1. 1. 1. 1. 1. 1. 1.\n",
      " 1. 1. 1. 1. 1. 1. 1. 1. 1. 1. 1. 1. 1. 1. 1. 1. 1. 1. 1. 1. 1. 1. 1. 1.\n",
      " 1. 1. 1. 1.]\n"
     ]
    }
   ],
   "source": [
    "preds = model(X)\n",
    "\n",
    "preds\n",
    "\n",
    "preds = preds.numpy()\n",
    "preds = preds.round()\n",
    "print(preds[:, 0])\n",
    "\n",
    "acc = (preds == y)\n",
    "# print(acc.mean())"
   ]
  },
  {
   "cell_type": "code",
   "execution_count": 11,
   "metadata": {},
   "outputs": [
    {
     "data": {
      "text/plain": [
       "array([[0., 0., 0., 0., 0., 0., 0., 0., 0., 0., 0., 0., 0., 0., 0., 0.,\n",
       "        0., 0., 0., 0., 0., 0., 0., 0., 0., 0., 0., 0., 0., 0., 0., 0.,\n",
       "        0., 0., 0., 0., 0., 0., 0., 0., 0., 0., 0., 0., 0., 0., 0., 0.,\n",
       "        0., 0., 1., 1., 1., 1., 1., 1., 1., 1., 1., 1., 1., 1., 1., 1.,\n",
       "        1., 1., 1., 1., 1., 1., 1., 1., 1., 1., 1., 1., 1., 1., 1., 1.,\n",
       "        1., 1., 1., 1., 1., 1., 1., 1., 1., 1., 1., 1., 1., 1., 1., 1.,\n",
       "        1., 1., 1., 1.]])"
      ]
     },
     "execution_count": 11,
     "metadata": {},
     "output_type": "execute_result"
    }
   ],
   "source": [
    "y.T"
   ]
  },
  {
   "cell_type": "code",
   "execution_count": 15,
   "metadata": {},
   "outputs": [
    {
     "data": {
      "text/plain": [
       "array([[ True,  True,  True,  True,  True,  True,  True,  True,  True,\n",
       "         True,  True,  True,  True,  True,  True,  True,  True,  True,\n",
       "         True,  True,  True,  True,  True,  True,  True,  True,  True,\n",
       "         True,  True,  True,  True,  True,  True,  True,  True,  True,\n",
       "         True,  True,  True,  True,  True,  True,  True,  True,  True,\n",
       "         True,  True,  True,  True,  True,  True,  True,  True,  True,\n",
       "         True,  True,  True,  True,  True,  True,  True,  True,  True,\n",
       "         True,  True,  True,  True,  True,  True,  True,  True,  True,\n",
       "         True,  True,  True,  True,  True,  True,  True,  True,  True,\n",
       "         True,  True,  True,  True,  True,  True,  True,  True,  True,\n",
       "         True,  True,  True,  True,  True,  True,  True,  True,  True,\n",
       "         True]])"
      ]
     },
     "execution_count": 15,
     "metadata": {},
     "output_type": "execute_result"
    }
   ],
   "source": [
    "acc = (preds == y)\n",
    "acc.T"
   ]
  },
  {
   "cell_type": "markdown",
   "metadata": {},
   "source": [
    "# N samples"
   ]
  },
  {
   "cell_type": "code",
   "execution_count": null,
   "metadata": {},
   "outputs": [],
   "source": [
    "import numpy as np\n",
    "import tensorflow as tf\n",
    "\n",
    "\n",
    "### Data preparation\n",
    "data = np.genfromtxt('iris_full.csv', delimiter=',', skip_header=1)\n",
    "X = data[:,0:4]\n",
    "y = data[:,4:]\n",
    "\n",
    "m = 20\n",
    "\n",
    "### Create model\n",
    "class Model(object):\n",
    "    def __init__(self):\n",
    "        self.W = tf.Variable([[-0.04], [0.02], [-0.03], [0.001]], dtype=tf.float64)\n",
    "        self.b = tf.Variable(0.01, dtype=tf.float64)\n",
    "    \n",
    "    def __call__(self, x):\n",
    "        return tf.math.sigmoid(tf.matmul(x, self.W) + self.b)\n",
    "    \n",
    "model = Model()\n",
    "\n",
    "\n",
    "### training\n",
    "learning_rate = 0.1\n",
    "num_epochs = 100\n",
    "loss = tf.keras.losses.BinaryCrossentropy()\n",
    "\n",
    "losses = []\n",
    "for epoch in range(num_epochs):\n",
    "    with tf.GradientTape() as t:\n",
    "        # y_hat\n",
    "        y_hat = model(X)\n",
    "        \n",
    "        # loss\n",
    "        loss_v = loss(y, y_hat)\n",
    "        losses.append(loss_v.numpy())\n",
    "        \n",
    "        # gradient\n",
    "        dW, db = t.gradient(loss_v, [model.W, model.b])\n",
    "        \n",
    "        # update\n",
    "        model.W.assign_sub(learning_rate * dW)\n",
    "        model.b.assign_sub(learning_rate * db)"
   ]
  },
  {
   "cell_type": "code",
   "execution_count": null,
   "metadata": {},
   "outputs": [],
   "source": []
  },
  {
   "cell_type": "code",
   "execution_count": null,
   "metadata": {},
   "outputs": [],
   "source": []
  },
  {
   "cell_type": "code",
   "execution_count": null,
   "metadata": {},
   "outputs": [],
   "source": []
  },
  {
   "cell_type": "code",
   "execution_count": null,
   "metadata": {},
   "outputs": [],
   "source": []
  }
 ],
 "metadata": {
  "kernelspec": {
   "display_name": "Python 3 (ipykernel)",
   "language": "python",
   "name": "python3"
  },
  "language_info": {
   "codemirror_mode": {
    "name": "ipython",
    "version": 3
   },
   "file_extension": ".py",
   "mimetype": "text/x-python",
   "name": "python",
   "nbconvert_exporter": "python",
   "pygments_lexer": "ipython3",
   "version": "3.12.3"
  }
 },
 "nbformat": 4,
 "nbformat_minor": 4
}
