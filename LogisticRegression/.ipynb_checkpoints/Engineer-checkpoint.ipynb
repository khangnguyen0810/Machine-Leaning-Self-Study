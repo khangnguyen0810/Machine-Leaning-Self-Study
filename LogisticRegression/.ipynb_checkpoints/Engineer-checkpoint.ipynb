{
 "cells": [
  {
   "cell_type": "code",
   "execution_count": 1,
   "metadata": {},
   "outputs": [
    {
     "name": "stdout",
     "output_type": "stream",
     "text": [
      "Train on 6 samples\n",
      "6/6 [==============================] - 0s 57ms/sample - loss: 0.7560\n"
     ]
    }
   ],
   "source": [
    "import numpy as np\n",
    "import tensorflow as tf\n",
    "\n",
    "# Data Preparation\n",
    "data = np.genfromtxt('iris_1D.csv', delimiter=',', skip_header=1)\n",
    "X = data[:,0:1]\n",
    "y = data[:,1]\n",
    "\n",
    "# create model\n",
    "model = tf.keras.Sequential(\n",
    "    [tf.keras.layers.Dense(units=1, activation='sigmoid', input_shape=[1])])\n",
    "\n",
    "# initialize parameters\n",
    "model.layers[0].set_weights([np.array([[-0.1]]), np.array([0.1])])\n",
    "#print(model.layers[0].weights)\n",
    "\n",
    "# declare optimization method and loss function , \n",
    "model.compile(optimizer='sgd', loss='binary_crossentropy')\n",
    "\n",
    "# training\n",
    "history = model.fit(X, y, 6, epochs=1)\n",
    "\n",
    "# parameters after one epoch\n",
    "#print('weight-bias: \\n', model.layers[0].get_weights())"
   ]
  },
  {
   "cell_type": "code",
   "execution_count": 13,
   "metadata": {},
   "outputs": [
    {
     "data": {
      "image/png": "[encoded data removed]",
      "text/plain": [
       "<Figure size 432x288 with 1 Axes>"
      ]
     },
     "metadata": {
      "needs_background": "light"
     },
     "output_type": "display_data"
    }
   ],
   "source": []
  },
  {
   "cell_type": "code",
   "execution_count": 15,
   "metadata": {},
   "outputs": [
    {
     "name": "stdout",
     "output_type": "stream",
     "text": [
      "Train on 6 samples\n",
      "Epoch 1/20\n",
      "6/6 [==============================] - 0s 20ms/sample - loss: 2.4125\n",
      "Epoch 2/20\n",
      "6/6 [==============================] - 0s 339us/sample - loss: 2.1118\n",
      "Epoch 3/20\n",
      "6/6 [==============================] - 0s 326us/sample - loss: 1.8278\n",
      "Epoch 4/20\n",
      "6/6 [==============================] - 0s 161us/sample - loss: 1.5661\n",
      "Epoch 5/20\n",
      "6/6 [==============================] - 0s 333us/sample - loss: 1.3337\n",
      "Epoch 6/20\n",
      "6/6 [==============================] - 0s 166us/sample - loss: 1.1381\n",
      "Epoch 7/20\n",
      "6/6 [==============================] - 0s 160us/sample - loss: 0.9842\n",
      "Epoch 8/20\n",
      "6/6 [==============================] - 0s 332us/sample - loss: 0.8720\n",
      "Epoch 9/20\n",
      "6/6 [==============================] - 0s 499us/sample - loss: 0.7952\n",
      "Epoch 10/20\n",
      "6/6 [==============================] - 0s 166us/sample - loss: 0.7446\n",
      "Epoch 11/20\n",
      "6/6 [==============================] - 0s 333us/sample - loss: 0.7114\n",
      "Epoch 12/20\n",
      "6/6 [==============================] - 0s 333us/sample - loss: 0.6893\n",
      "Epoch 13/20\n",
      "6/6 [==============================] - 0s 332us/sample - loss: 0.6740\n",
      "Epoch 14/20\n",
      "6/6 [==============================] - 0s 332us/sample - loss: 0.6629\n",
      "Epoch 15/20\n",
      "6/6 [==============================] - 0s 166us/sample - loss: 0.6544\n",
      "Epoch 16/20\n",
      "6/6 [==============================] - 0s 166us/sample - loss: 0.6476\n",
      "Epoch 17/20\n",
      "6/6 [==============================] - 0s 332us/sample - loss: 0.6420\n",
      "Epoch 18/20\n",
      "6/6 [==============================] - 0s 333us/sample - loss: 0.6370\n",
      "Epoch 19/20\n",
      "6/6 [==============================] - 0s 166us/sample - loss: 0.6324\n",
      "Epoch 20/20\n",
      "6/6 [==============================] - 0s 337us/sample - loss: 0.6282\n"
     ]
    }
   ],
   "source": [
    "import numpy as np\n",
    "import tensorflow as tf\n",
    "import tensorflow.keras as keras\n",
    "\n",
    "batch_size = 6\n",
    "epochs = 20\n",
    "\n",
    "# Data Preparation\n",
    "data = np.genfromtxt('iris_1D.csv', delimiter=',', skip_header=1)\n",
    "X = data[:,0:1]\n",
    "y = data[:,1]\n",
    "\n",
    "# create model\n",
    "model = tf.keras.Sequential(\n",
    "    [tf.keras.layers.Dense(units=1, activation='sigmoid', input_shape=[1])])\n",
    "\n",
    "# declare optimization method and loss function\n",
    "opt = keras.optimizers.SGD(learning_rate=0.1)\n",
    "model.compile(optimizer=opt, loss='binary_crossentropy')\n",
    "\n",
    "# training\n",
    "history = model.fit(X, y, batch_size, epochs)"
   ]
  },
  {
   "cell_type": "code",
   "execution_count": 17,
   "metadata": {},
   "outputs": [
    {
     "data": {
      "image/png": "[encoded data removed]",
      "text/plain": [
       "<Figure size 432x288 with 1 Axes>"
      ]
     },
     "metadata": {
      "needs_background": "light"
     },
     "output_type": "display_data"
    }
   ],
   "source": [
    "import matplotlib.pyplot as plt\n",
    "\n",
    "plt.plot(history.history['loss'])\n",
    "plt.xlabel('iteration')\n",
    "plt.ylabel('Loss')\n",
    "plt.show()"
   ]
  },
  {
   "cell_type": "code",
   "execution_count": null,
   "metadata": {},
   "outputs": [],
   "source": []
  }
 ],
 "metadata": {
  "kernelspec": {
   "display_name": "Python 3",
   "language": "python",
   "name": "python3"
  },
  "language_info": {
   "codemirror_mode": {
    "name": "ipython",
    "version": 3
   },
   "file_extension": ".py",
   "mimetype": "text/x-python",
   "name": "python",
   "nbconvert_exporter": "python",
   "pygments_lexer": "ipython3",
   "version": "3.7.3"
  }
 },
 "nbformat": 4,
 "nbformat_minor": 2
}
