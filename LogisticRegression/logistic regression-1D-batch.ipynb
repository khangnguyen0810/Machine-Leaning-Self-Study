{
 "cells": [
  {
   "cell_type": "code",
   "execution_count": 2,
   "metadata": {},
   "outputs": [
    {
     "name": "stdout",
     "output_type": "stream",
     "text": [
      "(6, 2)\n",
      "X:  [[1.4]\n",
      " [1. ]\n",
      " [1.5]\n",
      " [3. ]\n",
      " [3.8]\n",
      " [4.1]]\n",
      "y:  [0. 0. 0. 1. 1. 1.]\n",
      "X:  [[1.  1.4]\n",
      " [1.  1. ]\n",
      " [1.  1.5]\n",
      " [1.  3. ]\n",
      " [1.  3.8]\n",
      " [1.  4.1]]\n",
      "y:  [0. 0. 0. 1. 1. 1.]\n"
     ]
    },
    {
     "data": {
      "image/png": "[encoded data removed]",
      "text/plain": [
       "<Figure size 720x432 with 1 Axes>"
      ]
     },
     "metadata": {
      "needs_background": "light"
     },
     "output_type": "display_data"
    }
   ],
   "source": [
    "import numpy as np\n",
    "import matplotlib.pyplot as plt\n",
    "\n",
    "iris = np.genfromtxt('iris_1D.csv', dtype=None, delimiter=',', skip_header=1) \n",
    "print(iris.shape)\n",
    "X = iris[:, :1]\n",
    "y = iris[:, 1]\n",
    "\n",
    "print('X: ', X)\n",
    "print('y: ', y)\n",
    "\n",
    "plt.figure(figsize=(10, 6))\n",
    "plt.scatter(X[y == 0][:, 0], y[y == 0], color='b', label='0')\n",
    "plt.scatter(X[y == 1][:, 0], y[y == 1], color='r', label='1')\n",
    "plt.legend()\n",
    "\n",
    "intercept = np.ones((X.shape[0], 1))\n",
    "X = np.concatenate((intercept, X), axis=1)\n",
    "\n",
    "print('X: ', X)\n",
    "print('y: ', y)"
   ]
  },
  {
   "cell_type": "code",
   "execution_count": 3,
   "metadata": {},
   "outputs": [
    {
     "name": "stdout",
     "output_type": "stream",
     "text": [
      "loss:  0.7560200141969865\n",
      "new theta:  [ 0.1003646  -0.09289708]\n"
     ]
    }
   ],
   "source": [
    "def sigmoid_function(z):\n",
    "    return 1 / (1 + np.exp(-z))\n",
    "\n",
    "def loss_function(h, y):\n",
    "    return (-y * np.log(h) - (1 - y) * np.log(1 - h)).mean()\n",
    "\n",
    "def predict(X, theta):    \n",
    "    h = sigmoid_function(np.dot(X, theta))\n",
    "    return h.round()\n",
    "\n",
    "lr = 0.01\n",
    "num_iter=1\n",
    "\n",
    "theta = np.array([0.1, -0.1])\n",
    "\n",
    "losses = []\n",
    "accs   = []\n",
    "\n",
    "for i in range(num_iter):\n",
    "    #print('data: ', X)\n",
    "    #print('theta: ', theta)\n",
    "    \n",
    "    z = np.dot(X, theta)\n",
    "    #print('z: ', z)\n",
    "    y_hat = sigmoid_function(z)\n",
    "    #print('y_hat: ', y_hat)\n",
    "    \n",
    "    loss = loss_function(y_hat, y)\n",
    "    print('loss: ', loss)\n",
    "\n",
    "    # compute mean of gradient\n",
    "    gradient = np.dot(X.T, (y_hat - y)) / y.size\n",
    "    #print('(y_hat - y): ', (y_hat - y))\n",
    "    #print('gradient: ', gradient)\n",
    "    \n",
    "    theta -= lr*gradient    \n",
    "    print('new theta: ', theta)\n",
    "\n",
    "    if(i % 1 == 0):\n",
    "        # loss\n",
    "        losses.append(loss)\n",
    "        \n",
    "        # accuracy\n",
    "        preds = predict(X, theta)\n",
    "        acc = (preds == y).mean()\n",
    "        accs.append(acc)"
   ]
  },
  {
   "cell_type": "code",
   "execution_count": 6,
   "metadata": {},
   "outputs": [
    {
     "data": {
      "image/png": "[encoded data removed]",
      "text/plain": [
       "<Figure size 432x288 with 1 Axes>"
      ]
     },
     "metadata": {
      "needs_background": "light"
     },
     "output_type": "display_data"
    }
   ],
   "source": [
    "import matplotlib.pyplot as plt\n",
    "\n",
    "plt.plot(losses[1:])\n",
    "plt.xlabel('iteration')\n",
    "plt.ylabel('losses')\n",
    "plt.show()"
   ]
  },
  {
   "cell_type": "code",
   "execution_count": 7,
   "metadata": {},
   "outputs": [
    {
     "data": {
      "image/png": "[encoded data removed]",
      "text/plain": [
       "<Figure size 432x288 with 1 Axes>"
      ]
     },
     "metadata": {
      "needs_background": "light"
     },
     "output_type": "display_data"
    }
   ],
   "source": [
    "import matplotlib.pyplot as plt\n",
    "\n",
    "plt.plot(accs[1:])\n",
    "plt.xlabel('iteration')\n",
    "plt.ylabel('accs')\n",
    "plt.show()"
   ]
  },
  {
   "cell_type": "code",
   "execution_count": null,
   "metadata": {},
   "outputs": [],
   "source": []
  },
  {
   "cell_type": "code",
   "execution_count": null,
   "metadata": {},
   "outputs": [],
   "source": []
  },
  {
   "cell_type": "code",
   "execution_count": null,
   "metadata": {},
   "outputs": [],
   "source": []
  }
 ],
 "metadata": {
  "kernelspec": {
   "display_name": "Python 3 (ipykernel)",
   "language": "python",
   "name": "python3"
  },
  "language_info": {
   "codemirror_mode": {
    "name": "ipython",
    "version": 3
   },
   "file_extension": ".py",
   "mimetype": "text/x-python",
   "name": "python",
   "nbconvert_exporter": "python",
   "pygments_lexer": "ipython3",
   "version": "3.12.3"
  }
 },
 "nbformat": 4,
 "nbformat_minor": 4
}
