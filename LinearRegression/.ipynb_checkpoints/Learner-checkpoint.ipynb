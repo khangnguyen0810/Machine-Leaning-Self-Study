{
 "cells": [
  {
   "cell_type": "code",
   "execution_count": 1,
   "metadata": {},
   "outputs": [
    {
     "name": "stdout",
     "output_type": "stream",
     "text": [
      "new params: \n",
      " [[0.20521 ]\n",
      " [0.545775]]\n",
      "loss_sum: \n",
      " [[72.372355]]\n"
     ]
    }
   ],
   "source": [
    "import numpy as np\n",
    "from numpy import genfromtxt\n",
    "import matplotlib.pyplot as plt\n",
    "\n",
    "# Data preparation\n",
    "data = genfromtxt('data.csv', delimiter=',')\n",
    "N=4\n",
    "X,y = data[:,0],data[:,1:]\n",
    "\n",
    "# vectorization\n",
    "X_b = np.c_[np.ones((N, 1)), X]\n",
    "\n",
    "# parameters\n",
    "thetas = np.array([[0.04],[-0.34]])\n",
    "\n",
    "n_epochs = 1\n",
    "learning_rate = 0.01\n",
    "for epoch in range(n_epochs):\n",
    "    gradient_sum = np.zeros((2,1))\n",
    "    loss_sum = 0.0\n",
    "    \n",
    "    for index in range(4):\n",
    "        # pick sample\n",
    "        x_i = X_b[index:index+1]\n",
    "        y_i = y[index:index+1]\n",
    "\n",
    "        # output\n",
    "        output_i = x_i.dot(thetas)\n",
    "        \n",
    "        # loss\n",
    "        loss_i = (output_i - y_i)*(output_i - y_i)\n",
    "        loss_sum = loss_sum + loss_i\n",
    "        \n",
    "        #gradient\n",
    "        gradient_loss_i = x_i.T.dot(2*(output_i - y_i))        \n",
    "        gradient_sum = gradient_sum + gradient_loss_i            \n",
    "    \n",
    "    thetas = thetas - learning_rate*(gradient_sum/N)\n",
    "    print('new params: \\n', thetas)\n",
    "    print('loss_sum: \\n', loss_sum/N)"
   ]
  },
  {
   "cell_type": "code",
   "execution_count": null,
   "metadata": {},
   "outputs": [],
   "source": []
  }
 ],
 "metadata": {
  "kernelspec": {
   "display_name": "Python 3 (ipykernel)",
   "language": "python",
   "name": "python3"
  },
  "language_info": {
   "codemirror_mode": {
    "name": "ipython",
    "version": 3
   },
   "file_extension": ".py",
   "mimetype": "text/x-python",
   "name": "python",
   "nbconvert_exporter": "python",
   "pygments_lexer": "ipython3",
   "version": "3.9.7"
  }
 },
 "nbformat": 4,
 "nbformat_minor": 2
}
