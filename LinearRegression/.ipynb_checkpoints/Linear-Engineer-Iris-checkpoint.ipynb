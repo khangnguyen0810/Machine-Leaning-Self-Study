{
 "cells": [
  {
   "cell_type": "code",
   "execution_count": 2,
   "metadata": {},
   "outputs": [
    {
     "name": "stdout",
     "output_type": "stream",
     "text": [
      "Train on 4 samples\n",
      "4/4 [==============================] - 0s 80ms/sample - loss: 72.3724\n",
      "weight-bias: \n",
      " [array([[0.54577494]], dtype=float32), array([0.20521], dtype=float32)]\n"
     ]
    }
   ],
   "source": [
    "import numpy as np\n",
    "import tensorflow as tf\n",
    "\n",
    "# Data Preparation\n",
    "data = np.genfromtxt('iris_full.csv', delimiter=',', skip_header=1)\n",
    "X = data[:,0:4]\n",
    "y = data[:,4:]\n",
    "\n",
    "# create model\n",
    "model = tf.keras.Sequential(\n",
    "    [tf.keras.layers.Dense(units=1, input_shape=[1])])\n",
    "\n",
    "# initialize parameters\n",
    "model.layers[0].set_weights([np.array([[-0.34]]), np.array([0.04])])\n",
    "\n",
    "# declare optimization method and loss function\n",
    "model.compile(optimizer='sgd', loss='mean_squared_error')\n",
    "\n",
    "# training\n",
    "model.fit(X, y, 4, epochs=1)\n",
    "\n",
    "# parameters after one epoch\n",
    "print('weight-bias: \\n', model.layers[0].get_weights())"
   ]
  },
  {
   "cell_type": "code",
   "execution_count": null,
   "metadata": {},
   "outputs": [],
   "source": []
  },
  {
   "cell_type": "code",
   "execution_count": 4,
   "metadata": {},
   "outputs": [
    {
     "name": "stdout",
     "output_type": "stream",
     "text": [
      "(4, 1)\n",
      "(4, 1)\n",
      "Train on 4 samples\n",
      "Epoch 1/10\n",
      "4/4 [==============================] - 0s 92ms/sample - loss: 148.9195\n",
      "Epoch 2/10\n",
      "4/4 [==============================] - 0s 0s/sample - loss: 28.6942\n",
      "Epoch 3/10\n",
      "4/4 [==============================] - 0s 4ms/sample - loss: 5.6050\n",
      "Epoch 4/10\n",
      "4/4 [==============================] - 0s 865us/sample - loss: 1.1707\n",
      "Epoch 5/10\n",
      "4/4 [==============================] - 0s 250us/sample - loss: 0.3191\n",
      "Epoch 6/10\n",
      "4/4 [==============================] - 0s 0s/sample - loss: 0.1555\n",
      "Epoch 7/10\n",
      "4/4 [==============================] - 0s 736us/sample - loss: 0.1240\n",
      "Epoch 8/10\n",
      "4/4 [==============================] - 0s 825us/sample - loss: 0.1179\n",
      "Epoch 9/10\n",
      "4/4 [==============================] - 0s 1ms/sample - loss: 0.1167\n",
      "Epoch 10/10\n",
      "4/4 [==============================] - 0s 711us/sample - loss: 0.1164\n"
     ]
    }
   ],
   "source": [
    "import numpy as np\n",
    "import tensorflow as tf\n",
    "import tensorflow.keras as keras\n",
    "\n",
    "batch_size = 4\n",
    "epochs = 10\n",
    "\n",
    "# Data Preparation\n",
    "data = np.genfromtxt('data.csv', delimiter=',')\n",
    "X = data[:,0:1]\n",
    "y = data[:,1:]\n",
    "\n",
    "print(X.shape)\n",
    "print(y.shape)\n",
    "\n",
    "# create model\n",
    "model = tf.keras.Sequential(\n",
    "    [tf.keras.layers.Dense(units=1, input_shape=[1])])\n",
    "\n",
    "# declare optimization method and loss function\n",
    "opt = keras.optimizers.SGD(learning_rate=0.01)\n",
    "model.compile(optimizer=opt, loss='mse')\n",
    "\n",
    "# training\n",
    "history = model.fit(X, y, batch_size, epochs)"
   ]
  },
  {
   "cell_type": "code",
   "execution_count": 6,
   "metadata": {},
   "outputs": [
    {
     "data": {
      "image/png": "[encoded data removed]",
      "text/plain": [
       "<Figure size 432x288 with 1 Axes>"
      ]
     },
     "metadata": {
      "needs_background": "light"
     },
     "output_type": "display_data"
    }
   ],
   "source": [
    "import matplotlib.pyplot as plt\n",
    "\n",
    "# plot losses\n",
    "plt.plot(history.history['loss'])\n",
    "plt.xlabel('iteration')\n",
    "plt.ylabel('Loss')\n",
    "plt.show()"
   ]
  },
  {
   "cell_type": "code",
   "execution_count": null,
   "metadata": {},
   "outputs": [],
   "source": []
  },
  {
   "cell_type": "code",
   "execution_count": null,
   "metadata": {},
   "outputs": [],
   "source": [
    "# testing\n",
    "X_testing = [[5.0]]\n",
    "y_hat = model.predict(X_testing)\n",
    "print(y_hat)  # [[6.51236]]"
   ]
  },
  {
   "cell_type": "code",
   "execution_count": null,
   "metadata": {},
   "outputs": [],
   "source": [
    "import numpy as np\n",
    "import tensorflow as tf\n",
    "import tensorflow.keras as keras\n",
    "\n",
    "batch_size = 4\n",
    "epochs = 10\n",
    "\n",
    "# Data Preparation\n",
    "data = np.genfromtxt('data.csv', delimiter=',')\n",
    "X = data[:,0:1]\n",
    "y = data[:,1:]\n",
    "\n",
    "# create model\n",
    "model = tf.keras.Sequential(\n",
    "    [tf.keras.layers.Dense(units=1, input_shape=[1])])\n",
    "\n",
    "# declare optimization method and loss function\n",
    "opt = keras.optimizers.SGD(learning_rate=0.01)\n",
    "model.compile(optimizer=opt, loss='mse')\n",
    "\n",
    "# training\n",
    "history = model.fit(X, y, batch_size, epochs)\n",
    "\n",
    "# save model\n",
    "checkpoint_path = \"my_model/model.ckpt\"\n",
    "model.save_weights(checkpoint_path)"
   ]
  },
  {
   "cell_type": "code",
   "execution_count": null,
   "metadata": {},
   "outputs": [],
   "source": [
    "import tensorflow as tf\n",
    "import tensorflow.keras as keras\n",
    "\n",
    "# create model\n",
    "model = tf.keras.Sequential(\n",
    "    [tf.keras.layers.Dense(units=1, input_shape=[1])])\n",
    "\n",
    "# load model\n",
    "model.load_weights('my_model/model.ckpt')\n",
    "\n",
    "X_testing = [[5.0]]\n",
    "y_hat = model.predict(X_testing)\n",
    "print(y_hat)"
   ]
  },
  {
   "cell_type": "code",
   "execution_count": null,
   "metadata": {},
   "outputs": [],
   "source": []
  },
  {
   "cell_type": "code",
   "execution_count": 1,
   "metadata": {},
   "outputs": [
    {
     "name": "stdout",
     "output_type": "stream",
     "text": [
      "Train on 4 samples\n",
      "Epoch 1/10\n",
      "4/4 [==============================] - 1s 192ms/sample - loss: 60.5071\n",
      "Epoch 2/10\n",
      "4/4 [==============================] - 0s 943us/sample - loss: 11.7054\n",
      "Epoch 3/10\n",
      "4/4 [==============================] - 0s 302us/sample - loss: 2.3330\n",
      "Epoch 4/10\n",
      "4/4 [==============================] - 0s 671us/sample - loss: 0.5331\n",
      "Epoch 5/10\n",
      "4/4 [==============================] - 0s 548us/sample - loss: 0.1873\n",
      "Epoch 6/10\n",
      "4/4 [==============================] - 0s 249us/sample - loss: 0.1209\n",
      "Epoch 7/10\n",
      "4/4 [==============================] - 0s 679us/sample - loss: 0.1081\n",
      "Epoch 8/10\n",
      "4/4 [==============================] - 0s 562us/sample - loss: 0.1056\n",
      "Epoch 9/10\n",
      "4/4 [==============================] - 0s 677us/sample - loss: 0.1051\n",
      "Epoch 10/10\n",
      "4/4 [==============================] - 0s 0s/sample - loss: 0.1050\n"
     ]
    }
   ],
   "source": [
    "import numpy as np\n",
    "import tensorflow as tf\n",
    "import tensorflow.keras as keras\n",
    "\n",
    "batch_size = 4\n",
    "epochs = 10\n",
    "\n",
    "# Data Preparation\n",
    "data = np.genfromtxt('data.csv', delimiter=',')\n",
    "X = data[:,0:1]\n",
    "y = data[:,1:]\n",
    "\n",
    "# create model\n",
    "model = tf.keras.Sequential(\n",
    "    [tf.keras.layers.Dense(units=1, input_shape=[1])])\n",
    "\n",
    "# declare optimization method and loss function\n",
    "opt = keras.optimizers.SGD(learning_rate=0.01)\n",
    "model.compile(optimizer=opt, loss='mse')\n",
    "\n",
    "# training\n",
    "history = model.fit(X, y, batch_size, epochs)\n",
    "\n",
    "# save entire model\n",
    "model.save('my_model/model.h5') "
   ]
  },
  {
   "cell_type": "code",
   "execution_count": 2,
   "metadata": {},
   "outputs": [
    {
     "name": "stdout",
     "output_type": "stream",
     "text": [
      "[[6.5115185]]\n"
     ]
    }
   ],
   "source": [
    "import tensorflow as tf\n",
    "import tensorflow.keras as keras\n",
    "\n",
    "# load model\n",
    "model = tf.keras.models.load_model('my_model/model.h5')\n",
    "\n",
    "# testing\n",
    "X_testing = [[5.0]]\n",
    "y_hat = model.predict(X_testing)\n",
    "print(y_hat)"
   ]
  },
  {
   "cell_type": "code",
   "execution_count": null,
   "metadata": {},
   "outputs": [],
   "source": []
  }
 ],
 "metadata": {
  "kernelspec": {
   "display_name": "Python 3",
   "language": "python",
   "name": "python3"
  },
  "language_info": {
   "codemirror_mode": {
    "name": "ipython",
    "version": 3
   },
   "file_extension": ".py",
   "mimetype": "text/x-python",
   "name": "python",
   "nbconvert_exporter": "python",
   "pygments_lexer": "ipython3",
   "version": "3.7.3"
  }
 },
 "nbformat": 4,
 "nbformat_minor": 2
}
