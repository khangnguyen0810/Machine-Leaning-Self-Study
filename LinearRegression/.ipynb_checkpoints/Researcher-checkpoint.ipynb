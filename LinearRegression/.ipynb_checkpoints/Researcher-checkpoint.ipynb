{
 "cells": [
  {
   "cell_type": "code",
   "execution_count": 1,
   "metadata": {},
   "outputs": [
    {
     "name": "stdout",
     "output_type": "stream",
     "text": [
      "weight: \n",
      " <tf.Variable 'Variable:0' shape=() dtype=float32, numpy=0.54577494>\n",
      "bias: \n",
      " <tf.Variable 'Variable:0' shape=() dtype=float32, numpy=0.20521>\n"
     ]
    }
   ],
   "source": [
    "import numpy as np\n",
    "import tensorflow as tf\n",
    "\n",
    "### Data preparation\n",
    "data = np.genfromtxt('data.csv', delimiter=',')\n",
    "m = 4\n",
    "X = data[:,0:1]\n",
    "y = data[:,1:]\n",
    "\n",
    "### Create model\n",
    "class Model(object):\n",
    "    def __init__(self):\n",
    "        self.W = tf.Variable(-0.34)\n",
    "        self.b = tf.Variable(0.04)\n",
    "    \n",
    "    def __call__(self, x):\n",
    "        return self.W*x + self.b\n",
    "    \n",
    "model = Model()\n",
    "\n",
    "### training\n",
    "learning_rate = 0.01\n",
    "for epoch in range(1):\n",
    "    with tf.GradientTape() as t:\n",
    "        # output\n",
    "        output = model(X)\n",
    "        \n",
    "        # loss\n",
    "        loss_v = tf.reduce_mean(tf.square(output - y))\n",
    "        \n",
    "        # gradient\n",
    "        dW, db = t.gradient(loss_v, [model.W, model.b])\n",
    "        \n",
    "        # update\n",
    "        model.W.assign_sub(learning_rate * dW)\n",
    "        model.b.assign_sub(learning_rate * db)\n",
    "        \n",
    "        # parameters after one epoch\n",
    "        print('weight: \\n', model.W)\n",
    "        print('bias: \\n', model.b)"
   ]
  },
  {
   "cell_type": "code",
   "execution_count": null,
   "metadata": {},
   "outputs": [],
   "source": []
  }
 ],
 "metadata": {
  "kernelspec": {
   "display_name": "Python 3",
   "language": "python",
   "name": "python3"
  },
  "language_info": {
   "codemirror_mode": {
    "name": "ipython",
    "version": 3
   },
   "file_extension": ".py",
   "mimetype": "text/x-python",
   "name": "python",
   "nbconvert_exporter": "python",
   "pygments_lexer": "ipython3",
   "version": "3.7.3"
  }
 },
 "nbformat": 4,
 "nbformat_minor": 2
}
