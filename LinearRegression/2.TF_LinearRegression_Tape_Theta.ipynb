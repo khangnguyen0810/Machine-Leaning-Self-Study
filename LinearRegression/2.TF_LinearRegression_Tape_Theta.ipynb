{
 "cells": [
  {
   "cell_type": "markdown",
   "id": "8df49901",
   "metadata": {},
   "source": [
    "# Training - One sample"
   ]
  },
  {
   "cell_type": "code",
   "execution_count": 1,
   "id": "c07d7862",
   "metadata": {},
   "outputs": [
    {
     "name": "stdout",
     "output_type": "stream",
     "text": [
      "[[1.  6.7]\n",
      " [1.  4.6]\n",
      " [1.  3.5]\n",
      " [1.  5.5]]\n",
      "[[9.1]\n",
      " [5.9]\n",
      " [4.6]\n",
      " [6.7]]\n"
     ]
    }
   ],
   "source": [
    "import numpy as np\n",
    "import tensorflow as tf\n",
    "\n",
    "### Data preparation\n",
    "data = np.genfromtxt('data.csv', delimiter=',')\n",
    "X = data[:,0:1]\n",
    "y = data[:,1:]\n",
    "N = X.shape[0]\n",
    "\n",
    "X = np.c_[np.ones((N, 1)), X]\n",
    "\n",
    "print(X)\n",
    "print(y)"
   ]
  },
  {
   "cell_type": "code",
   "execution_count": null,
   "id": "064d84fd",
   "metadata": {},
   "outputs": [],
   "source": []
  },
  {
   "cell_type": "code",
   "execution_count": 2,
   "id": "28d2982c",
   "metadata": {},
   "outputs": [
    {
     "name": "stdout",
     "output_type": "stream",
     "text": [
      "<tf.Variable 'Variable:0' shape=(2, 1) dtype=float64, numpy=\n",
      "array([[ 0.04],\n",
      "       [-0.34]])>\n"
     ]
    }
   ],
   "source": [
    "# theta [b, W]\n",
    "theta = tf.Variable([[0.04], \n",
    "                     [-0.34]], \n",
    "                    dtype=tf.float64)\n",
    "print(theta)\n",
    "\n",
    "# forward\n",
    "def compute_output(X, theta):\n",
    "    return tf.transpose(theta)@X\n",
    "\n",
    "# some params\n",
    "lr = 0.01\n",
    "epochs = 20\n",
    "losses = []"
   ]
  },
  {
   "cell_type": "code",
   "execution_count": null,
   "id": "491df8eb",
   "metadata": {},
   "outputs": [],
   "source": []
  },
  {
   "cell_type": "code",
   "execution_count": 12,
   "id": "504299fc",
   "metadata": {},
   "outputs": [],
   "source": [
    "# training\n",
    "for epoch in range(epochs):\n",
    "    for x_data, y_data in zip(X, y):        \n",
    "        # reshape -> (2,1)\n",
    "        x_data = tf.reshape(x_data, (2,1))\n",
    "                \n",
    "        with tf.GradientTape() as t:\n",
    "            # y_hat\n",
    "            y_hat = compute_output(theta, x_data)\n",
    "\n",
    "            # loss       \n",
    "            loss = tf.square(y_hat - y_data)\n",
    "\n",
    "        # debug\n",
    "        losses.append(loss[0][0].numpy())\n",
    "\n",
    "        # gradient        \n",
    "        dtheta = t.gradient(loss, theta)\n",
    "\n",
    "        # update\n",
    "        theta.assign_sub(lr*dtheta)"
   ]
  },
  {
   "cell_type": "code",
   "execution_count": null,
   "id": "38d4626f",
   "metadata": {},
   "outputs": [],
   "source": []
  },
  {
   "cell_type": "code",
   "execution_count": null,
   "id": "50642c74",
   "metadata": {},
   "outputs": [],
   "source": []
  },
  {
   "cell_type": "code",
   "execution_count": 7,
   "id": "6698483f",
   "metadata": {},
   "outputs": [
    {
     "data": {
      "image/png": "[encoded data removed]",
      "text/plain": [
       "<Figure size 432x288 with 1 Axes>"
      ]
     },
     "metadata": {
      "needs_background": "light"
     },
     "output_type": "display_data"
    }
   ],
   "source": [
    "import matplotlib.pyplot as plt\n",
    "\n",
    "# plot losses\n",
    "plt.plot(losses)\n",
    "plt.xlabel('iteration')\n",
    "plt.ylabel('Loss')\n",
    "plt.show()"
   ]
  },
  {
   "cell_type": "code",
   "execution_count": null,
   "id": "19d7f28b",
   "metadata": {},
   "outputs": [],
   "source": []
  },
  {
   "cell_type": "markdown",
   "id": "ae8ef1c5",
   "metadata": {},
   "source": [
    "# Training - N samples"
   ]
  },
  {
   "cell_type": "code",
   "execution_count": 1,
   "id": "ccd84ac2",
   "metadata": {},
   "outputs": [
    {
     "name": "stdout",
     "output_type": "stream",
     "text": [
      "[[1.  6.7]\n",
      " [1.  4.6]\n",
      " [1.  3.5]\n",
      " [1.  5.5]]\n",
      "[[9.1]\n",
      " [5.9]\n",
      " [4.6]\n",
      " [6.7]]\n"
     ]
    }
   ],
   "source": [
    "import numpy as np\n",
    "import tensorflow as tf\n",
    "\n",
    "### Data preparation\n",
    "data = np.genfromtxt('data.csv', delimiter=',')\n",
    "X = data[:,0:1]\n",
    "y = data[:,1:]\n",
    "N = X.shape[0]\n",
    "\n",
    "X = np.c_[np.ones((N, 1)), X]\n",
    "\n",
    "print(X)\n",
    "print(y)"
   ]
  },
  {
   "cell_type": "code",
   "execution_count": null,
   "id": "42fefa61",
   "metadata": {},
   "outputs": [],
   "source": []
  },
  {
   "cell_type": "code",
   "execution_count": 2,
   "id": "8eca6f57",
   "metadata": {},
   "outputs": [],
   "source": [
    "# theta [b, W]\n",
    "theta = tf.Variable([[0.04], \n",
    "                     [-0.34]], \n",
    "                    dtype=tf.float64)\n",
    "\n",
    "# forward\n",
    "def compute_output(X, theta):\n",
    "    return X@theta\n",
    "\n",
    "# some params\n",
    "lr = 0.01\n",
    "epochs = 20\n",
    "losses = []\n",
    "\n",
    "# training\n",
    "for epoch in range(epochs):\n",
    "    with tf.GradientTape() as t:\n",
    "        # y_hat\n",
    "        y_hat = compute_output(X, theta)\n",
    "        \n",
    "        # loss\n",
    "        loss = tf.reduce_mean(tf.square(y_hat - y))\n",
    "                \n",
    "    # debug\n",
    "    losses.append(loss.numpy())\n",
    "        \n",
    "    # gradient        \n",
    "    dtheta = t.gradient(loss, theta)\n",
    "\n",
    "    # update\n",
    "    theta.assign_sub(lr*dtheta)"
   ]
  },
  {
   "cell_type": "code",
   "execution_count": null,
   "id": "3a4e0ef8",
   "metadata": {},
   "outputs": [],
   "source": []
  },
  {
   "cell_type": "code",
   "execution_count": 3,
   "id": "43437652",
   "metadata": {},
   "outputs": [
    {
     "data": {
      "image/png": "[encoded data removed]",
      "text/plain": [
       "<Figure size 432x288 with 1 Axes>"
      ]
     },
     "metadata": {
      "needs_background": "light"
     },
     "output_type": "display_data"
    }
   ],
   "source": [
    "import matplotlib.pyplot as plt\n",
    "\n",
    "# plot losses\n",
    "plt.plot(losses)\n",
    "plt.xlabel('iteration')\n",
    "plt.ylabel('Loss')\n",
    "plt.show()"
   ]
  },
  {
   "cell_type": "code",
   "execution_count": null,
   "id": "813d2ba6",
   "metadata": {},
   "outputs": [],
   "source": []
  }
 ],
 "metadata": {
  "kernelspec": {
   "display_name": "Python 3 (ipykernel)",
   "language": "python",
   "name": "python3"
  },
  "language_info": {
   "codemirror_mode": {
    "name": "ipython",
    "version": 3
   },
   "file_extension": ".py",
   "mimetype": "text/x-python",
   "name": "python",
   "nbconvert_exporter": "python",
   "pygments_lexer": "ipython3",
   "version": "3.9.7"
  }
 },
 "nbformat": 4,
 "nbformat_minor": 5
}
