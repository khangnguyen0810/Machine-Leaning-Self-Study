{
 "cells": [
  {
   "cell_type": "code",
   "execution_count": 1,
   "metadata": {},
   "outputs": [],
   "source": [
    "import numpy as np\n",
    "import tensorflow as tf\n",
    "from sklearn import preprocessing\n",
    "\n",
    "tf.keras.backend.set_floatx('float64')\n",
    "\n",
    "### Data preparation\n",
    "data = np.genfromtxt('iris_full.csv', delimiter=',', skip_header=1)\n",
    "X = data[:,0:4]\n",
    "y = data[:,4:]\n",
    "X = preprocessing.scale(X)\n",
    "\n",
    "### Create model\n",
    "class Model(object):\n",
    "    def __init__(self):\n",
    "        self.W = tf.Variable(tf.random.normal((4, 3), dtype=tf.float64))\n",
    "        self.b = tf.Variable([0.01, 0.01, 0.01], dtype=tf.float64)\n",
    "    \n",
    "    def __call__(self, x):\n",
    "        return tf.math.softmax(tf.matmul(x, self.W) + self.b)\n",
    "    \n",
    "model = Model()\n",
    "\n",
    "### training\n",
    "learning_rate = 0.1\n",
    "num_epochs = 200\n",
    "loss = tf.keras.losses.SparseCategoricalCrossentropy()\n",
    "\n",
    "losses = []\n",
    "for epoch in range(num_epochs):\n",
    "    with tf.GradientTape() as t:\n",
    "        # output\n",
    "        output = model(X)\n",
    "        \n",
    "        # loss\n",
    "        loss_v = loss(y, output)\n",
    "        losses.append(loss_v.numpy())\n",
    "        \n",
    "        # gradient\n",
    "        dW, db = t.gradient(loss_v, [model.W, model.b])\n",
    "        \n",
    "        # update\n",
    "        model.W.assign_sub(learning_rate * dW) \n",
    "        model.b.assign_sub(learning_rate * db)\n",
    "        \n",
    "        # parameters after one epoch\n",
    "        #print('weight: \\n', model.W)\n",
    "        #print('bias: \\n', model.b)"
   ]
  },
  {
   "cell_type": "code",
   "execution_count": 20,
   "metadata": {},
   "outputs": [
    {
     "name": "stdout",
     "output_type": "stream",
     "text": [
      "tf.Tensor(\n",
      "[[0.2984477  0.06793947 0.63361284]\n",
      " [0.3176681  0.07442178 0.60791012]\n",
      " [0.30387017 0.08399987 0.61212996]\n",
      " [0.31681302 0.11814009 0.56504689]\n",
      " [0.29497883 0.07727704 0.62774413]], shape=(5, 3), dtype=float64)\n"
     ]
    }
   ],
   "source": [
    "output = model(X)\n",
    "print(output[:5])"
   ]
  },
  {
   "cell_type": "code",
   "execution_count": 3,
   "metadata": {},
   "outputs": [
    {
     "data": {
      "image/png": "[encoded data removed]",
      "text/plain": [
       "<Figure size 432x288 with 1 Axes>"
      ]
     },
     "metadata": {
      "needs_background": "light"
     },
     "output_type": "display_data"
    }
   ],
   "source": [
    "import matplotlib.pyplot as plt\n",
    "\n",
    "plt.plot(losses)\n",
    "plt.xlabel('iteration')\n",
    "plt.ylabel('Loss')\n",
    "plt.show()"
   ]
  },
  {
   "cell_type": "code",
   "execution_count": 4,
   "metadata": {},
   "outputs": [
    {
     "name": "stdout",
     "output_type": "stream",
     "text": [
      "(150,)\n",
      "(150, 1)\n",
      "[[9.72618151e-01 2.71631301e-02 2.18718805e-04]\n",
      " [9.20173515e-01 7.95328894e-02 2.93595365e-04]\n",
      " [9.75444435e-01 2.44475408e-02 1.08024257e-04]\n",
      " [9.69371310e-01 3.04821982e-02 1.46491877e-04]\n",
      " [9.84473508e-01 1.53825170e-02 1.43974922e-04]]\n",
      "0.9266666666666666\n"
     ]
    }
   ],
   "source": [
    "preds = model(X)\n",
    "\n",
    "preds = preds.numpy()\n",
    "predicted_class = np.argmax(preds, axis=1)\n",
    "\n",
    "print(predicted_class.shape)\n",
    "print(y.shape)\n",
    "print(preds[:5])\n",
    "\n",
    "acc = np.mean(predicted_class == y[:,0])\n",
    "print(acc.mean())"
   ]
  },
  {
   "cell_type": "code",
   "execution_count": null,
   "metadata": {},
   "outputs": [],
   "source": []
  }
 ],
 "metadata": {
  "kernelspec": {
   "display_name": "Python 3",
   "language": "python",
   "name": "python3"
  },
  "language_info": {
   "codemirror_mode": {
    "name": "ipython",
    "version": 3
   },
   "file_extension": ".py",
   "mimetype": "text/x-python",
   "name": "python",
   "nbconvert_exporter": "python",
   "pygments_lexer": "ipython3",
   "version": "3.7.3"
  }
 },
 "nbformat": 4,
 "nbformat_minor": 2
}
