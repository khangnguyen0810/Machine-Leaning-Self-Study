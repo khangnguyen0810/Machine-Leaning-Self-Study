{
 "cells": [
  {
   "cell_type": "code",
   "execution_count": 1,
   "id": "5cc812ca",
   "metadata": {},
   "outputs": [
    {
     "name": "stdout",
     "output_type": "stream",
     "text": [
      "(60000, 784)\n",
      "(60000,)\n",
      "(10000, 784)\n",
      "(10000,)\n"
     ]
    }
   ],
   "source": [
    "import numpy as np\n",
    "import gzip\n",
    "\n",
    "# load training images\n",
    "with gzip.open('data_fashion_mnist/train-images-idx3-ubyte.gz', 'rb') as f:\n",
    "    X_train = np.frombuffer(f.read(), np.uint8, offset=16).reshape(-1, 28*28)\n",
    "\n",
    "# load testing images\n",
    "with gzip.open('data_fashion_mnist/t10k-images-idx3-ubyte.gz', 'rb') as f:\n",
    "    X_test = np.frombuffer(f.read(), np.uint8, offset=16).reshape(-1, 28*28)\n",
    "\n",
    "# load training labels\n",
    "with gzip.open('data_fashion_mnist/train-labels-idx1-ubyte.gz', 'rb') as f:\n",
    "    y_train = np.frombuffer(f.read(), np.uint8, offset=8)\n",
    "    \n",
    "# load testing labels\n",
    "with gzip.open('data_fashion_mnist/t10k-labels-idx1-ubyte.gz', 'rb') as f:\n",
    "    y_test = np.frombuffer(f.read(), np.uint8, offset=8)\n",
    "    \n",
    "\n",
    "# check data\n",
    "print(X_train.shape)\n",
    "print(y_train.shape)\n",
    "print(X_test.shape)\n",
    "print(y_test.shape)"
   ]
  },
  {
   "cell_type": "code",
   "execution_count": null,
   "id": "bb902098",
   "metadata": {},
   "outputs": [],
   "source": []
  },
  {
   "cell_type": "code",
   "execution_count": 3,
   "id": "d49b01b0",
   "metadata": {},
   "outputs": [],
   "source": [
    "# data normalization\n",
    "\n",
    "mean = np.mean(X_train)\n",
    "std  = np.std(X_train)\n",
    "\n",
    "X_train = (X_train-mean)/std\n",
    "X_test  = (X_test-mean)/std"
   ]
  },
  {
   "cell_type": "code",
   "execution_count": null,
   "id": "f93335f6",
   "metadata": {},
   "outputs": [],
   "source": []
  },
  {
   "cell_type": "code",
   "execution_count": 9,
   "id": "c460ca13",
   "metadata": {},
   "outputs": [
    {
     "name": "stdout",
     "output_type": "stream",
     "text": [
      "Model: \"sequential_2\"\n",
      "_________________________________________________________________\n",
      " Layer (type)                Output Shape              Param #   \n",
      "=================================================================\n",
      " dense_3 (Dense)             (None, 2)                 10        \n",
      "                                                                 \n",
      " dense_4 (Dense)             (None, 4)                 12        \n",
      "                                                                 \n",
      " dense_5 (Dense)             (None, 3)                 15        \n",
      "                                                                 \n",
      "=================================================================\n",
      "Total params: 37\n",
      "Trainable params: 37\n",
      "Non-trainable params: 0\n",
      "_________________________________________________________________\n"
     ]
    }
   ],
   "source": [
    "import tensorflow as tf\n",
    "import tensorflow.keras as keras\n",
    "\n",
    "# create model\n",
    "model = keras.Sequential()\n",
    "model.add(keras.Input(shape=(4,)))\n",
    "model.add(keras.layers.Dense(2, activation='relu'))\n",
    "model.add(keras.layers.Dense(4, activation='relu'))\n",
    "model.add(keras.layers.Dense(3, activation='softmax'))\n",
    "model.summary()"
   ]
  },
  {
   "cell_type": "code",
   "execution_count": null,
   "id": "7b2c2e17",
   "metadata": {},
   "outputs": [],
   "source": []
  },
  {
   "cell_type": "code",
   "execution_count": 5,
   "id": "a6539113",
   "metadata": {},
   "outputs": [
    {
     "name": "stdout",
     "output_type": "stream",
     "text": [
      "Epoch 1/50\n",
      "235/235 - 1s - loss: 0.7903 - sparse_categorical_accuracy: 0.7641 - 614ms/epoch - 3ms/step\n",
      "Epoch 2/50\n",
      "235/235 - 0s - loss: 0.4448 - sparse_categorical_accuracy: 0.8730 - 360ms/epoch - 2ms/step\n",
      "Epoch 3/50\n",
      "235/235 - 0s - loss: 0.3934 - sparse_categorical_accuracy: 0.8864 - 358ms/epoch - 2ms/step\n",
      "Epoch 4/50\n",
      "235/235 - 0s - loss: 0.3683 - sparse_categorical_accuracy: 0.8939 - 334ms/epoch - 1ms/step\n",
      "Epoch 5/50\n",
      "235/235 - 0s - loss: 0.3524 - sparse_categorical_accuracy: 0.8985 - 343ms/epoch - 1ms/step\n",
      "Epoch 6/50\n",
      "235/235 - 0s - loss: 0.3413 - sparse_categorical_accuracy: 0.9019 - 341ms/epoch - 1ms/step\n",
      "Epoch 7/50\n",
      "235/235 - 0s - loss: 0.3328 - sparse_categorical_accuracy: 0.9040 - 330ms/epoch - 1ms/step\n",
      "Epoch 8/50\n",
      "235/235 - 0s - loss: 0.3262 - sparse_categorical_accuracy: 0.9062 - 351ms/epoch - 1ms/step\n",
      "Epoch 9/50\n",
      "235/235 - 0s - loss: 0.3206 - sparse_categorical_accuracy: 0.9082 - 341ms/epoch - 1ms/step\n",
      "Epoch 10/50\n",
      "235/235 - 0s - loss: 0.3160 - sparse_categorical_accuracy: 0.9097 - 350ms/epoch - 1ms/step\n",
      "Epoch 11/50\n",
      "235/235 - 0s - loss: 0.3121 - sparse_categorical_accuracy: 0.9106 - 343ms/epoch - 1ms/step\n",
      "Epoch 12/50\n",
      "235/235 - 0s - loss: 0.3088 - sparse_categorical_accuracy: 0.9119 - 383ms/epoch - 2ms/step\n",
      "Epoch 13/50\n",
      "235/235 - 0s - loss: 0.3057 - sparse_categorical_accuracy: 0.9128 - 327ms/epoch - 1ms/step\n",
      "Epoch 14/50\n",
      "235/235 - 0s - loss: 0.3030 - sparse_categorical_accuracy: 0.9143 - 371ms/epoch - 2ms/step\n",
      "Epoch 15/50\n",
      "235/235 - 0s - loss: 0.3007 - sparse_categorical_accuracy: 0.9141 - 377ms/epoch - 2ms/step\n",
      "Epoch 16/50\n",
      "235/235 - 0s - loss: 0.2985 - sparse_categorical_accuracy: 0.9153 - 441ms/epoch - 2ms/step\n",
      "Epoch 17/50\n",
      "235/235 - 0s - loss: 0.2966 - sparse_categorical_accuracy: 0.9159 - 342ms/epoch - 1ms/step\n",
      "Epoch 18/50\n",
      "235/235 - 0s - loss: 0.2947 - sparse_categorical_accuracy: 0.9166 - 350ms/epoch - 1ms/step\n",
      "Epoch 19/50\n",
      "235/235 - 0s - loss: 0.2930 - sparse_categorical_accuracy: 0.9172 - 413ms/epoch - 2ms/step\n",
      "Epoch 20/50\n",
      "235/235 - 0s - loss: 0.2916 - sparse_categorical_accuracy: 0.9173 - 402ms/epoch - 2ms/step\n",
      "Epoch 21/50\n",
      "235/235 - 0s - loss: 0.2901 - sparse_categorical_accuracy: 0.9181 - 380ms/epoch - 2ms/step\n",
      "Epoch 22/50\n",
      "235/235 - 0s - loss: 0.2888 - sparse_categorical_accuracy: 0.9180 - 322ms/epoch - 1ms/step\n",
      "Epoch 23/50\n",
      "235/235 - 0s - loss: 0.2876 - sparse_categorical_accuracy: 0.9189 - 339ms/epoch - 1ms/step\n",
      "Epoch 24/50\n",
      "235/235 - 0s - loss: 0.2863 - sparse_categorical_accuracy: 0.9194 - 336ms/epoch - 1ms/step\n",
      "Epoch 25/50\n",
      "235/235 - 0s - loss: 0.2853 - sparse_categorical_accuracy: 0.9200 - 350ms/epoch - 1ms/step\n",
      "Epoch 26/50\n",
      "235/235 - 0s - loss: 0.2842 - sparse_categorical_accuracy: 0.9198 - 332ms/epoch - 1ms/step\n",
      "Epoch 27/50\n",
      "235/235 - 0s - loss: 0.2832 - sparse_categorical_accuracy: 0.9207 - 328ms/epoch - 1ms/step\n",
      "Epoch 28/50\n",
      "235/235 - 0s - loss: 0.2822 - sparse_categorical_accuracy: 0.9205 - 324ms/epoch - 1ms/step\n",
      "Epoch 29/50\n",
      "235/235 - 0s - loss: 0.2813 - sparse_categorical_accuracy: 0.9216 - 315ms/epoch - 1ms/step\n",
      "Epoch 30/50\n",
      "235/235 - 0s - loss: 0.2804 - sparse_categorical_accuracy: 0.9215 - 335ms/epoch - 1ms/step\n",
      "Epoch 31/50\n",
      "235/235 - 0s - loss: 0.2797 - sparse_categorical_accuracy: 0.9221 - 325ms/epoch - 1ms/step\n",
      "Epoch 32/50\n",
      "235/235 - 0s - loss: 0.2788 - sparse_categorical_accuracy: 0.9221 - 321ms/epoch - 1ms/step\n",
      "Epoch 33/50\n",
      "235/235 - 0s - loss: 0.2782 - sparse_categorical_accuracy: 0.9222 - 322ms/epoch - 1ms/step\n",
      "Epoch 34/50\n",
      "235/235 - 0s - loss: 0.2775 - sparse_categorical_accuracy: 0.9228 - 336ms/epoch - 1ms/step\n",
      "Epoch 35/50\n",
      "235/235 - 0s - loss: 0.2768 - sparse_categorical_accuracy: 0.9231 - 312ms/epoch - 1ms/step\n",
      "Epoch 36/50\n",
      "235/235 - 0s - loss: 0.2762 - sparse_categorical_accuracy: 0.9230 - 337ms/epoch - 1ms/step\n",
      "Epoch 37/50\n",
      "235/235 - 0s - loss: 0.2755 - sparse_categorical_accuracy: 0.9234 - 377ms/epoch - 2ms/step\n",
      "Epoch 38/50\n",
      "235/235 - 0s - loss: 0.2749 - sparse_categorical_accuracy: 0.9233 - 348ms/epoch - 1ms/step\n",
      "Epoch 39/50\n",
      "235/235 - 0s - loss: 0.2743 - sparse_categorical_accuracy: 0.9237 - 362ms/epoch - 2ms/step\n",
      "Epoch 40/50\n",
      "235/235 - 0s - loss: 0.2737 - sparse_categorical_accuracy: 0.9236 - 325ms/epoch - 1ms/step\n",
      "Epoch 41/50\n",
      "235/235 - 0s - loss: 0.2732 - sparse_categorical_accuracy: 0.9238 - 324ms/epoch - 1ms/step\n",
      "Epoch 42/50\n",
      "235/235 - 0s - loss: 0.2726 - sparse_categorical_accuracy: 0.9241 - 351ms/epoch - 1ms/step\n",
      "Epoch 43/50\n",
      "235/235 - 0s - loss: 0.2721 - sparse_categorical_accuracy: 0.9244 - 328ms/epoch - 1ms/step\n",
      "Epoch 44/50\n",
      "235/235 - 0s - loss: 0.2716 - sparse_categorical_accuracy: 0.9239 - 323ms/epoch - 1ms/step\n",
      "Epoch 45/50\n",
      "235/235 - 0s - loss: 0.2711 - sparse_categorical_accuracy: 0.9246 - 345ms/epoch - 1ms/step\n",
      "Epoch 46/50\n",
      "235/235 - 0s - loss: 0.2707 - sparse_categorical_accuracy: 0.9246 - 320ms/epoch - 1ms/step\n",
      "Epoch 47/50\n",
      "235/235 - 0s - loss: 0.2702 - sparse_categorical_accuracy: 0.9246 - 321ms/epoch - 1ms/step\n",
      "Epoch 48/50\n",
      "235/235 - 0s - loss: 0.2697 - sparse_categorical_accuracy: 0.9250 - 318ms/epoch - 1ms/step\n",
      "Epoch 49/50\n",
      "235/235 - 0s - loss: 0.2694 - sparse_categorical_accuracy: 0.9249 - 324ms/epoch - 1ms/step\n",
      "Epoch 50/50\n",
      "235/235 - 0s - loss: 0.2689 - sparse_categorical_accuracy: 0.9249 - 332ms/epoch - 1ms/step\n",
      "313/313 [==============================] - 1s 1ms/step - loss: 0.2745 - sparse_categorical_accuracy: 0.9223\n",
      "Test accuracy: 0.9222999811172485\n"
     ]
    }
   ],
   "source": [
    "# optimizer and loss\n",
    "model.compile(optimizer='sgd', \n",
    "              loss='sparse_categorical_crossentropy', \n",
    "              metrics=['sparse_categorical_accuracy'])\n",
    "\n",
    "# training\n",
    "history = model.fit(X_train, y_train, 256, epochs=50, verbose=2)\n",
    "\n",
    "# testing\n",
    "test_loss, test_acc = model.evaluate(X_test, y_test)\n",
    "print('Test accuracy:', test_acc)"
   ]
  },
  {
   "cell_type": "code",
   "execution_count": null,
   "id": "e8930b85",
   "metadata": {},
   "outputs": [],
   "source": []
  },
  {
   "cell_type": "code",
   "execution_count": 6,
   "id": "66f70981",
   "metadata": {},
   "outputs": [
    {
     "data": {
      "text/plain": [
       "Text(0, 0.5, 'Loss')"
      ]
     },
     "execution_count": 6,
     "metadata": {},
     "output_type": "execute_result"
    },
    {
     "data": {
      "image/png": "[encoded data removed]",
      "text/plain": [
       "<Figure size 432x288 with 1 Axes>"
      ]
     },
     "metadata": {
      "needs_background": "light"
     },
     "output_type": "display_data"
    }
   ],
   "source": [
    "import matplotlib.pyplot as plt\n",
    "\n",
    "plt.plot(history.history['loss'])\n",
    "plt.xlabel('iteration')\n",
    "plt.ylabel('Loss')"
   ]
  },
  {
   "cell_type": "code",
   "execution_count": null,
   "id": "ccec74e9",
   "metadata": {},
   "outputs": [],
   "source": []
  },
  {
   "cell_type": "code",
   "execution_count": 7,
   "id": "348a761a",
   "metadata": {},
   "outputs": [
    {
     "data": {
      "text/plain": [
       "Text(0, 0.5, 'Accuracy')"
      ]
     },
     "execution_count": 7,
     "metadata": {},
     "output_type": "execute_result"
    },
    {
     "data": {
      "image/png": "[encoded data removed]",
      "text/plain": [
       "<Figure size 432x288 with 1 Axes>"
      ]
     },
     "metadata": {
      "needs_background": "light"
     },
     "output_type": "display_data"
    }
   ],
   "source": [
    "import matplotlib.pyplot as plt\n",
    "\n",
    "plt.plot(history.history['sparse_categorical_accuracy'])\n",
    "plt.xlabel('iteration')\n",
    "plt.ylabel('Accuracy')"
   ]
  },
  {
   "cell_type": "code",
   "execution_count": null,
   "id": "51d5f69c",
   "metadata": {},
   "outputs": [],
   "source": []
  }
 ],
 "metadata": {
  "kernelspec": {
   "display_name": "Python 3 (ipykernel)",
   "language": "python",
   "name": "python3"
  },
  "language_info": {
   "codemirror_mode": {
    "name": "ipython",
    "version": 3
   },
   "file_extension": ".py",
   "mimetype": "text/x-python",
   "name": "python",
   "nbconvert_exporter": "python",
   "pygments_lexer": "ipython3",
   "version": "3.9.7"
  }
 },
 "nbformat": 4,
 "nbformat_minor": 5
}
