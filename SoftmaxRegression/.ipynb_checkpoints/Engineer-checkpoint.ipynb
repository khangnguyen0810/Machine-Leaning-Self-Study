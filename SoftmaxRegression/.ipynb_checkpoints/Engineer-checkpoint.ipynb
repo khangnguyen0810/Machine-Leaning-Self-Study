{
 "cells": [
  {
   "cell_type": "code",
   "execution_count": 5,
   "metadata": {},
   "outputs": [
    {
     "name": "stdout",
     "output_type": "stream",
     "text": [
      "Train on 9 samples\n",
      "9/9 [==============================] - 0s 11ms/sample - loss: 1.2043\n",
      "weight-bias: \n",
      " [array([[ 0.08748973, -0.09198201,  0.10449228]], dtype=float32), array([ 0.0989501 ,  0.05130527, -0.10025536], dtype=float32)]\n"
     ]
    }
   ],
   "source": [
    "import numpy as np\n",
    "import tensorflow as tf\n",
    "\n",
    "# Data Preparation\n",
    "data = np.genfromtxt('iris_1D_3c.csv', delimiter=',', skip_header=1)\n",
    "X = data[:,0:1]\n",
    "y = data[:,1]\n",
    "\n",
    "# create model\n",
    "model = tf.keras.Sequential([tf.keras.layers.Dense(units=3, activation='softmax', input_shape=[1])])\n",
    "\n",
    "# initialize parameters\n",
    "model.layers[0].set_weights([np.array([[0.1, -0.1, 0.1]]), np.array([0.1, 0.05, -0.1])])\n",
    "#print(model.layers[0].weights)\n",
    "\n",
    "# declare optimization method and loss function , \n",
    "model.compile(optimizer='sgd', loss='sparse_categorical_crossentropy')\n",
    "\n",
    "# training\n",
    "history = model.fit(X, y, 9, epochs=1)\n",
    "\n",
    "# parameters after one epoch\n",
    "print('weight-bias: \\n', model.layers[0].get_weights())"
   ]
  },
  {
   "cell_type": "code",
   "execution_count": null,
   "metadata": {},
   "outputs": [],
   "source": []
  },
  {
   "cell_type": "code",
   "execution_count": 4,
   "metadata": {},
   "outputs": [
    {
     "name": "stdout",
     "output_type": "stream",
     "text": [
      "Train on 9 samples\n",
      "Epoch 1/20\n",
      "9/9 [==============================] - 0s 19ms/sample - loss: 3.1676\n",
      "Epoch 2/20\n",
      "9/9 [==============================] - 0s 221us/sample - loss: 2.6389\n",
      "Epoch 3/20\n",
      "9/9 [==============================] - 0s 110us/sample - loss: 2.3121\n",
      "Epoch 4/20\n",
      "9/9 [==============================] - 0s 221us/sample - loss: 1.9978\n",
      "Epoch 5/20\n",
      "9/9 [==============================] - 0s 111us/sample - loss: 1.6993\n",
      "Epoch 6/20\n",
      "9/9 [==============================] - 0s 220us/sample - loss: 1.4296\n",
      "Epoch 7/20\n",
      "9/9 [==============================] - 0s 222us/sample - loss: 1.2127\n",
      "Epoch 8/20\n",
      "9/9 [==============================] - 0s 221us/sample - loss: 1.0761\n",
      "Epoch 9/20\n",
      "9/9 [==============================] - 0s 222us/sample - loss: 1.0165\n",
      "Epoch 10/20\n",
      "9/9 [==============================] - 0s 222us/sample - loss: 0.9956\n",
      "Epoch 11/20\n",
      "9/9 [==============================] - 0s 222us/sample - loss: 0.9862\n",
      "Epoch 12/20\n",
      "9/9 [==============================] - 0s 219us/sample - loss: 0.9797\n",
      "Epoch 13/20\n",
      "9/9 [==============================] - 0s 111us/sample - loss: 0.9744\n",
      "Epoch 14/20\n",
      "9/9 [==============================] - 0s 222us/sample - loss: 0.9694\n",
      "Epoch 15/20\n",
      "9/9 [==============================] - 0s 222us/sample - loss: 0.9647\n",
      "Epoch 16/20\n",
      "9/9 [==============================] - 0s 222us/sample - loss: 0.9602\n",
      "Epoch 17/20\n",
      "9/9 [==============================] - 0s 113us/sample - loss: 0.9557\n",
      "Epoch 18/20\n",
      "9/9 [==============================] - 0s 221us/sample - loss: 0.9512\n",
      "Epoch 19/20\n",
      "9/9 [==============================] - 0s 222us/sample - loss: 0.9468\n",
      "Epoch 20/20\n",
      "9/9 [==============================] - 0s 222us/sample - loss: 0.9425\n"
     ]
    }
   ],
   "source": [
    "import numpy as np\n",
    "import tensorflow as tf\n",
    "import tensorflow.keras as keras\n",
    "\n",
    "batch_size = 9\n",
    "epochs = 20\n",
    "\n",
    "# Data Preparation\n",
    "data = np.genfromtxt('iris_1D_3c.csv', delimiter=',', skip_header=1)\n",
    "X = data[:,0:1]\n",
    "y = data[:,1]\n",
    "\n",
    "# create model\n",
    "model = tf.keras.Sequential(\n",
    "    [tf.keras.layers.Dense(units=3, activation='softmax', input_shape=[1])])\n",
    "\n",
    "# declare optimization method and loss function\n",
    "opt = keras.optimizers.SGD(learning_rate=0.1)\n",
    "model.compile(optimizer=opt, loss='sparse_categorical_crossentropy')\n",
    "\n",
    "# training\n",
    "history = model.fit(X, y, batch_size, epochs)"
   ]
  },
  {
   "cell_type": "code",
   "execution_count": 6,
   "metadata": {},
   "outputs": [
    {
     "data": {
      "image/png": "[encoded data removed]",
      "text/plain": [
       "<Figure size 432x288 with 1 Axes>"
      ]
     },
     "metadata": {
      "needs_background": "light"
     },
     "output_type": "display_data"
    }
   ],
   "source": [
    "import matplotlib.pyplot as plt\n",
    "\n",
    "plt.plot(history.history['loss'])\n",
    "plt.xlabel('iteration')\n",
    "plt.ylabel('Loss')\n",
    "plt.show()"
   ]
  },
  {
   "cell_type": "code",
   "execution_count": null,
   "metadata": {},
   "outputs": [],
   "source": []
  }
 ],
 "metadata": {
  "kernelspec": {
   "display_name": "Python 3",
   "language": "python",
   "name": "python3"
  },
  "language_info": {
   "codemirror_mode": {
    "name": "ipython",
    "version": 3
   },
   "file_extension": ".py",
   "mimetype": "text/x-python",
   "name": "python",
   "nbconvert_exporter": "python",
   "pygments_lexer": "ipython3",
   "version": "3.7.3"
  }
 },
 "nbformat": 4,
 "nbformat_minor": 2
}
