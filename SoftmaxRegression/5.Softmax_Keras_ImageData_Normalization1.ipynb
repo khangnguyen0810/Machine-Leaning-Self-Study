{
 "cells": [
  {
   "cell_type": "code",
   "execution_count": 2,
   "id": "5cc812ca",
   "metadata": {},
   "outputs": [
    {
     "name": "stdout",
     "output_type": "stream",
     "text": [
      "(60000, 784)\n",
      "(60000,)\n",
      "(10000, 784)\n",
      "(10000,)\n"
     ]
    }
   ],
   "source": [
    "import numpy as np\n",
    "import gzip\n",
    "\n",
    "# load training images\n",
    "with gzip.open('data_fashion_mnist/train-images-idx3-ubyte.gz', 'rb') as f:\n",
    "    X_train = np.frombuffer(f.read(), np.uint8, offset=16).reshape(-1, 28*28)\n",
    "\n",
    "# load testing images\n",
    "with gzip.open('data_fashion_mnist/t10k-images-idx3-ubyte.gz', 'rb') as f:\n",
    "    X_test = np.frombuffer(f.read(), np.uint8, offset=16).reshape(-1, 28*28)\n",
    "\n",
    "# load training labels\n",
    "with gzip.open('data_fashion_mnist/train-labels-idx1-ubyte.gz', 'rb') as f:\n",
    "    y_train = np.frombuffer(f.read(), np.uint8, offset=8)\n",
    "    \n",
    "# load testing labels\n",
    "with gzip.open('data_fashion_mnist/t10k-labels-idx1-ubyte.gz', 'rb') as f:\n",
    "    y_test = np.frombuffer(f.read(), np.uint8, offset=8)\n",
    "    \n",
    "\n",
    "# check data\n",
    "print(X_train.shape)\n",
    "print(y_train.shape)\n",
    "print(X_test.shape)\n",
    "print(y_test.shape)"
   ]
  },
  {
   "cell_type": "code",
   "execution_count": null,
   "id": "bb902098",
   "metadata": {},
   "outputs": [],
   "source": []
  },
  {
   "cell_type": "code",
   "execution_count": 3,
   "id": "73463d39",
   "metadata": {},
   "outputs": [],
   "source": [
    "# data normalization\n",
    "\n",
    "X_train = X_train/255\n",
    "X_test  = X_test/255"
   ]
  },
  {
   "cell_type": "code",
   "execution_count": null,
   "id": "7d9401b5",
   "metadata": {},
   "outputs": [],
   "source": []
  },
  {
   "cell_type": "code",
   "execution_count": 4,
   "id": "c460ca13",
   "metadata": {},
   "outputs": [
    {
     "name": "stdout",
     "output_type": "stream",
     "text": [
      "Model: \"sequential\"\n",
      "_________________________________________________________________\n",
      " Layer (type)                Output Shape              Param #   \n",
      "=================================================================\n",
      " dense (Dense)               (None, 10)                7850      \n",
      "                                                                 \n",
      "=================================================================\n",
      "Total params: 7,850\n",
      "Trainable params: 7,850\n",
      "Non-trainable params: 0\n",
      "_________________________________________________________________\n"
     ]
    }
   ],
   "source": [
    "import tensorflow as tf\n",
    "import tensorflow.keras as keras\n",
    "\n",
    "# create model\n",
    "model = keras.Sequential()\n",
    "model.add(keras.Input(shape=(784,)))\n",
    "model.add(keras.layers.Dense(10, activation='softmax'))\n",
    "model.summary()"
   ]
  },
  {
   "cell_type": "code",
   "execution_count": null,
   "id": "7b2c2e17",
   "metadata": {},
   "outputs": [],
   "source": []
  },
  {
   "cell_type": "code",
   "execution_count": 5,
   "id": "a6539113",
   "metadata": {},
   "outputs": [
    {
     "name": "stdout",
     "output_type": "stream",
     "text": [
      "Epoch 1/50\n",
      "235/235 - 1s - loss: 1.6284 - sparse_categorical_accuracy: 0.5769 - 588ms/epoch - 3ms/step\n",
      "Epoch 2/50\n",
      "235/235 - 0s - loss: 0.9705 - sparse_categorical_accuracy: 0.8007 - 376ms/epoch - 2ms/step\n",
      "Epoch 3/50\n",
      "235/235 - 0s - loss: 0.7672 - sparse_categorical_accuracy: 0.8327 - 399ms/epoch - 2ms/step\n",
      "Epoch 4/50\n",
      "235/235 - 0s - loss: 0.6678 - sparse_categorical_accuracy: 0.8478 - 327ms/epoch - 1ms/step\n",
      "Epoch 5/50\n",
      "235/235 - 0s - loss: 0.6076 - sparse_categorical_accuracy: 0.8566 - 327ms/epoch - 1ms/step\n",
      "Epoch 6/50\n",
      "235/235 - 0s - loss: 0.5665 - sparse_categorical_accuracy: 0.8629 - 331ms/epoch - 1ms/step\n",
      "Epoch 7/50\n",
      "235/235 - 0s - loss: 0.5365 - sparse_categorical_accuracy: 0.8673 - 331ms/epoch - 1ms/step\n",
      "Epoch 8/50\n",
      "235/235 - 0s - loss: 0.5134 - sparse_categorical_accuracy: 0.8710 - 318ms/epoch - 1ms/step\n",
      "Epoch 9/50\n",
      "235/235 - 0s - loss: 0.4949 - sparse_categorical_accuracy: 0.8743 - 324ms/epoch - 1ms/step\n",
      "Epoch 10/50\n",
      "235/235 - 0s - loss: 0.4797 - sparse_categorical_accuracy: 0.8764 - 334ms/epoch - 1ms/step\n",
      "Epoch 11/50\n",
      "235/235 - 0s - loss: 0.4669 - sparse_categorical_accuracy: 0.8788 - 328ms/epoch - 1ms/step\n",
      "Epoch 12/50\n",
      "235/235 - 0s - loss: 0.4560 - sparse_categorical_accuracy: 0.8807 - 327ms/epoch - 1ms/step\n",
      "Epoch 13/50\n",
      "235/235 - 0s - loss: 0.4465 - sparse_categorical_accuracy: 0.8830 - 330ms/epoch - 1ms/step\n",
      "Epoch 14/50\n",
      "235/235 - 0s - loss: 0.4382 - sparse_categorical_accuracy: 0.8847 - 332ms/epoch - 1ms/step\n",
      "Epoch 15/50\n",
      "235/235 - 0s - loss: 0.4308 - sparse_categorical_accuracy: 0.8861 - 326ms/epoch - 1ms/step\n",
      "Epoch 16/50\n",
      "235/235 - 0s - loss: 0.4242 - sparse_categorical_accuracy: 0.8877 - 330ms/epoch - 1ms/step\n",
      "Epoch 17/50\n",
      "235/235 - 0s - loss: 0.4182 - sparse_categorical_accuracy: 0.8887 - 320ms/epoch - 1ms/step\n",
      "Epoch 18/50\n",
      "235/235 - 0s - loss: 0.4128 - sparse_categorical_accuracy: 0.8899 - 314ms/epoch - 1ms/step\n",
      "Epoch 19/50\n",
      "235/235 - 0s - loss: 0.4079 - sparse_categorical_accuracy: 0.8907 - 344ms/epoch - 1ms/step\n",
      "Epoch 20/50\n",
      "235/235 - 0s - loss: 0.4033 - sparse_categorical_accuracy: 0.8915 - 318ms/epoch - 1ms/step\n",
      "Epoch 21/50\n",
      "235/235 - 0s - loss: 0.3991 - sparse_categorical_accuracy: 0.8925 - 325ms/epoch - 1ms/step\n",
      "Epoch 22/50\n",
      "235/235 - 0s - loss: 0.3953 - sparse_categorical_accuracy: 0.8930 - 317ms/epoch - 1ms/step\n",
      "Epoch 23/50\n",
      "235/235 - 0s - loss: 0.3916 - sparse_categorical_accuracy: 0.8942 - 314ms/epoch - 1ms/step\n",
      "Epoch 24/50\n",
      "235/235 - 0s - loss: 0.3882 - sparse_categorical_accuracy: 0.8949 - 337ms/epoch - 1ms/step\n",
      "Epoch 25/50\n",
      "235/235 - 0s - loss: 0.3851 - sparse_categorical_accuracy: 0.8954 - 329ms/epoch - 1ms/step\n",
      "Epoch 26/50\n",
      "235/235 - 0s - loss: 0.3821 - sparse_categorical_accuracy: 0.8962 - 315ms/epoch - 1ms/step\n",
      "Epoch 27/50\n",
      "235/235 - 0s - loss: 0.3793 - sparse_categorical_accuracy: 0.8965 - 326ms/epoch - 1ms/step\n",
      "Epoch 28/50\n",
      "235/235 - 0s - loss: 0.3767 - sparse_categorical_accuracy: 0.8972 - 347ms/epoch - 1ms/step\n",
      "Epoch 29/50\n",
      "235/235 - 0s - loss: 0.3742 - sparse_categorical_accuracy: 0.8978 - 332ms/epoch - 1ms/step\n",
      "Epoch 30/50\n",
      "235/235 - 0s - loss: 0.3718 - sparse_categorical_accuracy: 0.8979 - 325ms/epoch - 1ms/step\n",
      "Epoch 31/50\n",
      "235/235 - 0s - loss: 0.3696 - sparse_categorical_accuracy: 0.8988 - 337ms/epoch - 1ms/step\n",
      "Epoch 32/50\n",
      "235/235 - 0s - loss: 0.3674 - sparse_categorical_accuracy: 0.8995 - 313ms/epoch - 1ms/step\n",
      "Epoch 33/50\n",
      "235/235 - 0s - loss: 0.3654 - sparse_categorical_accuracy: 0.8996 - 322ms/epoch - 1ms/step\n",
      "Epoch 34/50\n",
      "235/235 - 0s - loss: 0.3634 - sparse_categorical_accuracy: 0.9002 - 349ms/epoch - 1ms/step\n",
      "Epoch 35/50\n",
      "235/235 - 0s - loss: 0.3616 - sparse_categorical_accuracy: 0.9003 - 319ms/epoch - 1ms/step\n",
      "Epoch 36/50\n",
      "235/235 - 0s - loss: 0.3598 - sparse_categorical_accuracy: 0.9007 - 325ms/epoch - 1ms/step\n",
      "Epoch 37/50\n",
      "235/235 - 0s - loss: 0.3581 - sparse_categorical_accuracy: 0.9008 - 336ms/epoch - 1ms/step\n",
      "Epoch 38/50\n",
      "235/235 - 0s - loss: 0.3565 - sparse_categorical_accuracy: 0.9014 - 319ms/epoch - 1ms/step\n",
      "Epoch 39/50\n",
      "235/235 - 0s - loss: 0.3549 - sparse_categorical_accuracy: 0.9016 - 318ms/epoch - 1ms/step\n",
      "Epoch 40/50\n",
      "235/235 - 0s - loss: 0.3534 - sparse_categorical_accuracy: 0.9020 - 332ms/epoch - 1ms/step\n",
      "Epoch 41/50\n",
      "235/235 - 0s - loss: 0.3519 - sparse_categorical_accuracy: 0.9022 - 315ms/epoch - 1ms/step\n",
      "Epoch 42/50\n",
      "235/235 - 0s - loss: 0.3506 - sparse_categorical_accuracy: 0.9026 - 319ms/epoch - 1ms/step\n",
      "Epoch 43/50\n",
      "235/235 - 0s - loss: 0.3492 - sparse_categorical_accuracy: 0.9028 - 361ms/epoch - 2ms/step\n",
      "Epoch 44/50\n",
      "235/235 - 0s - loss: 0.3479 - sparse_categorical_accuracy: 0.9030 - 320ms/epoch - 1ms/step\n",
      "Epoch 45/50\n",
      "235/235 - 0s - loss: 0.3466 - sparse_categorical_accuracy: 0.9034 - 320ms/epoch - 1ms/step\n",
      "Epoch 46/50\n",
      "235/235 - 0s - loss: 0.3454 - sparse_categorical_accuracy: 0.9039 - 336ms/epoch - 1ms/step\n",
      "Epoch 47/50\n",
      "235/235 - 0s - loss: 0.3442 - sparse_categorical_accuracy: 0.9041 - 323ms/epoch - 1ms/step\n",
      "Epoch 48/50\n",
      "235/235 - 0s - loss: 0.3430 - sparse_categorical_accuracy: 0.9044 - 316ms/epoch - 1ms/step\n",
      "Epoch 49/50\n",
      "235/235 - 0s - loss: 0.3419 - sparse_categorical_accuracy: 0.9048 - 339ms/epoch - 1ms/step\n",
      "Epoch 50/50\n",
      "235/235 - 0s - loss: 0.3409 - sparse_categorical_accuracy: 0.9050 - 317ms/epoch - 1ms/step\n",
      "313/313 [==============================] - 1s 1ms/step - loss: 0.3249 - sparse_categorical_accuracy: 0.9111\n",
      "Test accuracy: 0.9110999703407288\n"
     ]
    }
   ],
   "source": [
    "# optimizer and loss\n",
    "model.compile(optimizer='sgd', \n",
    "              loss='sparse_categorical_crossentropy', \n",
    "              metrics=['sparse_categorical_accuracy'])\n",
    "\n",
    "# training\n",
    "history = model.fit(X_train, y_train, 256, epochs=50, verbose=2)\n",
    "\n",
    "# testing\n",
    "test_loss, test_acc = model.evaluate(X_test, y_test)\n",
    "print('Test accuracy:', test_acc)"
   ]
  },
  {
   "cell_type": "code",
   "execution_count": null,
   "id": "e8930b85",
   "metadata": {},
   "outputs": [],
   "source": []
  },
  {
   "cell_type": "code",
   "execution_count": 6,
   "id": "66f70981",
   "metadata": {},
   "outputs": [
    {
     "data": {
      "text/plain": [
       "Text(0, 0.5, 'Loss')"
      ]
     },
     "execution_count": 6,
     "metadata": {},
     "output_type": "execute_result"
    },
    {
     "data": {
      "image/png": "[encoded data removed]",
      "text/plain": [
       "<Figure size 432x288 with 1 Axes>"
      ]
     },
     "metadata": {
      "needs_background": "light"
     },
     "output_type": "display_data"
    }
   ],
   "source": [
    "import matplotlib.pyplot as plt\n",
    "\n",
    "plt.plot(history.history['loss'])\n",
    "plt.xlabel('iteration')\n",
    "plt.ylabel('Loss')"
   ]
  },
  {
   "cell_type": "code",
   "execution_count": null,
   "id": "ccec74e9",
   "metadata": {},
   "outputs": [],
   "source": []
  },
  {
   "cell_type": "code",
   "execution_count": 7,
   "id": "348a761a",
   "metadata": {},
   "outputs": [
    {
     "data": {
      "text/plain": [
       "Text(0, 0.5, 'Accuracy')"
      ]
     },
     "execution_count": 7,
     "metadata": {},
     "output_type": "execute_result"
    },
    {
     "data": {
      "image/png": "[encoded data removed]",
      "text/plain": [
       "<Figure size 432x288 with 1 Axes>"
      ]
     },
     "metadata": {
      "needs_background": "light"
     },
     "output_type": "display_data"
    }
   ],
   "source": [
    "import matplotlib.pyplot as plt\n",
    "\n",
    "plt.plot(history.history['sparse_categorical_accuracy'])\n",
    "plt.xlabel('iteration')\n",
    "plt.ylabel('Accuracy')"
   ]
  },
  {
   "cell_type": "code",
   "execution_count": null,
   "id": "51d5f69c",
   "metadata": {},
   "outputs": [],
   "source": []
  }
 ],
 "metadata": {
  "kernelspec": {
   "display_name": "Python 3 (ipykernel)",
   "language": "python",
   "name": "python3"
  },
  "language_info": {
   "codemirror_mode": {
    "name": "ipython",
    "version": 3
   },
   "file_extension": ".py",
   "mimetype": "text/x-python",
   "name": "python",
   "nbconvert_exporter": "python",
   "pygments_lexer": "ipython3",
   "version": "3.9.7"
  }
 },
 "nbformat": 4,
 "nbformat_minor": 5
}
