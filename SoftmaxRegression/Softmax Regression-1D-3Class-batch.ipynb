{
 "cells": [
  {
   "cell_type": "code",
   "execution_count": 2,
   "metadata": {},
   "outputs": [
    {
     "name": "stdout",
     "output_type": "stream",
     "text": [
      "(9, 2)\n",
      "X [[1.4]\n",
      " [1.3]\n",
      " [1.5]\n",
      " [4.5]\n",
      " [4.1]\n",
      " [4.6]\n",
      " [5.2]\n",
      " [5.6]\n",
      " [5.9]]\n",
      "y [0 0 0 1 1 1 2 2 2]\n"
     ]
    },
    {
     "data": {
      "text/plain": [
       "<matplotlib.legend.Legend at 0x23338a3d400>"
      ]
     },
     "execution_count": 2,
     "metadata": {},
     "output_type": "execute_result"
    },
    {
     "data": {
      "image/png": "[encoded data removed]",
      "text/plain": [
       "<Figure size 720x432 with 1 Axes>"
      ]
     },
     "metadata": {
      "needs_background": "light"
     },
     "output_type": "display_data"
    }
   ],
   "source": [
    "import numpy as np\n",
    "import matplotlib.pyplot as plt\n",
    "from sklearn import preprocessing\n",
    "\n",
    "iris = np.genfromtxt('iris_1D_3c.csv', dtype=None, delimiter=',', skip_header=1) \n",
    "print(iris.shape)\n",
    "X = iris[:, 0:1]\n",
    "y = iris[:, 1]\n",
    "\n",
    "#X = preprocessing.scale(X)\n",
    "y = y.astype('uint8')\n",
    "\n",
    "print('X', X)\n",
    "print('y', y)\n",
    "\n",
    "plt.figure(figsize=(10, 6))\n",
    "plt.scatter(X[y == 0][:, 0], y[y == 0], color='b', label='0')\n",
    "plt.scatter(X[y == 1][:, 0], y[y == 1], color='r', label='1')\n",
    "plt.scatter(X[y == 2][:, 0], y[y == 2], color='g', label='2')\n",
    "plt.legend()"
   ]
  },
  {
   "cell_type": "code",
   "execution_count": 4,
   "metadata": {},
   "outputs": [
    {
     "name": "stdout",
     "output_type": "stream",
     "text": [
      "1.2042538274715462\n"
     ]
    }
   ],
   "source": [
    "D = 1 # dimensionality\n",
    "K = 3 # number of classes\n",
    "\n",
    "# initialize parameters randomly\n",
    "#W = 0.01 * np.random.randn(D,K)\n",
    "#b = np.zeros((1,K))\n",
    "\n",
    "W = np.array([[0.1, -0.1, 0.1]])\n",
    "b = np.array([[0.1, 0.05, -0.1]])\n",
    "\n",
    "# gradient descent loop\n",
    "num_examples = X.shape[0]\n",
    "learning_rate = 0.01\n",
    "\n",
    "losses = []\n",
    "for i in range(1):  \n",
    "    # evaluate class scores\n",
    "    scores = np.dot(X, W) + b \n",
    "    #print('scores: ', scores)\n",
    "\n",
    "    # compute the class probabilities\n",
    "    exp_scores = np.exp(scores)\n",
    "    probs = exp_scores / np.sum(exp_scores, axis=1, keepdims=True)\n",
    "    #print('probs: ', probs)\n",
    "\n",
    "    # compute the loss: average cross-entropy loss and regularization\n",
    "    corect_logprobs = -np.log(probs[range(num_examples),y])\n",
    "    #print('logprobs: ', corect_logprobs)\n",
    "    loss = np.sum(corect_logprobs)/num_examples\n",
    "    print(loss)\n",
    "    if i % 5 == 0:\n",
    "        #print(\"iteration %d: loss %f\" % (i, loss))\n",
    "        losses.append(loss)\n",
    "\n",
    "    # compute the gradient on scores\n",
    "    dscores = probs\n",
    "    dscores[range(num_examples),y] -= 1    \n",
    "    dscores /= num_examples\n",
    "    #print('dscores: ', dscores)\n",
    "\n",
    "    # backpropate the gradient to the parameters (W,b)\n",
    "    dW = np.dot(X.T, dscores)\n",
    "    db = np.sum(dscores, axis=0, keepdims=True)\n",
    "\n",
    "    # perform a parameter update\n",
    "    W += -learning_rate * dW\n",
    "    b += -learning_rate * db"
   ]
  },
  {
   "cell_type": "code",
   "execution_count": null,
   "metadata": {},
   "outputs": [],
   "source": []
  }
 ],
 "metadata": {
  "kernelspec": {
   "display_name": "Python 3",
   "language": "python",
   "name": "python3"
  },
  "language_info": {
   "codemirror_mode": {
    "name": "ipython",
    "version": 3
   },
   "file_extension": ".py",
   "mimetype": "text/x-python",
   "name": "python",
   "nbconvert_exporter": "python",
   "pygments_lexer": "ipython3",
   "version": "3.7.3"
  }
 },
 "nbformat": 4,
 "nbformat_minor": 2
}
