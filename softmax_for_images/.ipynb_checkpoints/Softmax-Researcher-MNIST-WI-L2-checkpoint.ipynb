{
 "cells": [
  {
   "cell_type": "code",
   "execution_count": 1,
   "metadata": {},
   "outputs": [
    {
     "name": "stdout",
     "output_type": "stream",
     "text": [
      "(60000, 784)\n",
      "(60000,)\n",
      "(10000, 784)\n",
      "(10000,)\n"
     ]
    }
   ],
   "source": [
    "import numpy as np\n",
    "import tensorflow as tf\n",
    "import tensorflow.keras as keras\n",
    "tf.keras.backend.set_floatx('float64')\n",
    "\n",
    "# Data Preparation\n",
    "X_train = np.load('data_mnist/X_train.npy', allow_pickle=True)\n",
    "y_train = np.load('data_mnist/y_train.npy', allow_pickle=True)\n",
    "X_test = np.load('data_mnist/X_test.npy', allow_pickle=True)\n",
    "y_test = np.load('data_mnist/y_test.npy', allow_pickle=True)\n",
    "\n",
    "X_train = X_train/255\n",
    "X_test  = X_test/255\n",
    "\n",
    "print(X_train.shape)\n",
    "print(y_train.shape)\n",
    "print(X_test.shape)\n",
    "print(y_test.shape)"
   ]
  },
  {
   "cell_type": "code",
   "execution_count": 2,
   "metadata": {},
   "outputs": [],
   "source": [
    "# predict    \n",
    "def predict(x, W, b):\n",
    "    return tf.math.softmax(tf.matmul(x, W) + b)\n",
    "\n",
    "    \n",
    "### weights\n",
    "W = tf.Variable(tf.random.normal((784, 10), mean=0, stddev=1.0, dtype=tf.float64))\n",
    "b = tf.Variable(tf.zeros((10,), dtype=tf.float64))\n",
    "\n",
    "### training\n",
    "learning_rate = 0.1\n",
    "num_epochs = 1000\n",
    "\n",
    "### loss function\n",
    "loss = tf.keras.losses.SparseCategoricalCrossentropy()\n",
    "\n",
    "losses = [] # for debug\n",
    "for epoch in range(num_epochs):\n",
    "    with tf.GradientTape() as t:\n",
    "        # output\n",
    "        output = predict(X_train, W, b)\n",
    "        \n",
    "        # loss\n",
    "        weight_loss = tf.math.reduce_sum(W**2) / (W.shape[0]*W.shape[1])\n",
    "        loss_v = loss(y_train, output) + 0.1*weight_loss\n",
    "        losses.append(loss_v.numpy())\n",
    "        \n",
    "        # gradient\n",
    "        dW, db = t.gradient(loss_v, [W, b])\n",
    "        \n",
    "        # update\n",
    "        W.assign_sub(learning_rate * dW) \n",
    "        b.assign_sub(learning_rate * db)"
   ]
  },
  {
   "cell_type": "code",
   "execution_count": 4,
   "metadata": {},
   "outputs": [
    {
     "data": {
      "text/plain": [
       "Text(0, 0.5, 'Loss')"
      ]
     },
     "execution_count": 4,
     "metadata": {},
     "output_type": "execute_result"
    },
    {
     "data": {
      "image/png": "[encoded data removed]",
      "text/plain": [
       "<Figure size 432x288 with 1 Axes>"
      ]
     },
     "metadata": {
      "needs_background": "light"
     },
     "output_type": "display_data"
    }
   ],
   "source": [
    "import matplotlib.pyplot as plt\n",
    "\n",
    "plt.plot(losses)\n",
    "plt.xlabel('iteration')\n",
    "plt.ylabel('Loss')"
   ]
  },
  {
   "cell_type": "code",
   "execution_count": 5,
   "metadata": {},
   "outputs": [
    {
     "name": "stdout",
     "output_type": "stream",
     "text": [
      "0.8077\n"
     ]
    }
   ],
   "source": [
    "preds = predict(X_test, W, b)\n",
    "\n",
    "preds = preds.numpy()\n",
    "predicted_class = np.argmax(preds, axis=1)\n",
    "\n",
    "acc = np.mean(predicted_class == y_test)\n",
    "print(acc.mean())"
   ]
  },
  {
   "cell_type": "code",
   "execution_count": null,
   "metadata": {},
   "outputs": [],
   "source": []
  },
  {
   "cell_type": "code",
   "execution_count": null,
   "metadata": {},
   "outputs": [],
   "source": []
  },
  {
   "cell_type": "code",
   "execution_count": null,
   "metadata": {},
   "outputs": [],
   "source": []
  }
 ],
 "metadata": {
  "kernelspec": {
   "display_name": "Python 3 (ipykernel)",
   "language": "python",
   "name": "python3"
  },
  "language_info": {
   "codemirror_mode": {
    "name": "ipython",
    "version": 3
   },
   "file_extension": ".py",
   "mimetype": "text/x-python",
   "name": "python",
   "nbconvert_exporter": "python",
   "pygments_lexer": "ipython3",
   "version": "3.9.7"
  }
 },
 "nbformat": 4,
 "nbformat_minor": 2
}
